{
 "cells": [
  {
   "cell_type": "markdown",
   "id": "a21755bd-3f55-409d-acc7-8a2bf23a9de6",
   "metadata": {},
   "source": [
    "# Easy Level (1-20)"
   ]
  },
  {
   "cell_type": "code",
   "execution_count": null,
   "id": "a964798f-26bd-45c3-b6e6-3599868255ca",
   "metadata": {},
   "outputs": [],
   "source": [
    "# 1. Check if a number is even or odd ?\n",
    "a1=int(input(\"Enter a number: \"))\n",
    "if a1%2==0:\n",
    "    print(a1,\"is a even\")\n",
    "else:\n",
    "    print(a1,\"is a odd\")"
   ]
  },
  {
   "cell_type": "code",
   "execution_count": null,
   "id": "a91dce4e-bfe1-4f26-8168-443cea67863a",
   "metadata": {},
   "outputs": [],
   "source": [
    "# 2. Check if a person is eligible to vote (age 18 or above)?\n",
    "a1=int(input(\"Enter age: \"))\n",
    "if a1>=18:\n",
    "    print(\"you are Eligible\")\n",
    "else:\n",
    "    print(\"you are Not Eligible\")"
   ]
  },
  {
   "cell_type": "code",
   "execution_count": null,
   "id": "037e963a-8920-4955-815c-d514a269daa8",
   "metadata": {},
   "outputs": [],
   "source": [
    "# 3. Determine if a given year is a leap year or not?\n",
    "year =int(input(\"Enter the year: \"))\n",
    "if(year%4 == 0 and year%100 != 0) or (year%400 ==0):\n",
    "    print(year,\"is a leap year\")\n",
    "else:\n",
    "    print(year,\"is not a leap year\")"
   ]
  },
  {
   "cell_type": "code",
   "execution_count": null,
   "id": "03d124e9-1ea8-4703-bb8e-0617bf01e772",
   "metadata": {},
   "outputs": [],
   "source": [
    "# 4. Check if a number is positive, negative, or zero ?\n",
    "a1=int(input(\"Enter a number: \"))\n",
    "if a1>0:\n",
    "    print(\"It's a positive number\")\n",
    "elif a1<0:\n",
    "    print(\"It's a negative number\")\n",
    "else:\n",
    "    print(\"It's a zero\")"
   ]
  },
  {
   "cell_type": "code",
   "execution_count": null,
   "id": "2b180e7e-bb70-4bcc-a8d6-64b4d8ae0e59",
   "metadata": {},
   "outputs": [],
   "source": [
    "# 5. Write a program to find the greatest of two numbers ?\n",
    "a1=int(input(\"Enter 1st number: \"))\n",
    "a2=int(input(\"Enter 1st number: \"))\n",
    "if a1>a2:\n",
    "    print(a1,\"is greatest number\")\n",
    "else:\n",
    "    print(a2,\"is greatest number\")"
   ]
  },
  {
   "cell_type": "code",
   "execution_count": null,
   "id": "22dd06de-b059-4c20-b31a-1e1d15293c8b",
   "metadata": {},
   "outputs": [],
   "source": [
    "# 6. Determine if a number is a multiple of 5 ?\n",
    "a1=int(input(\"Enter number: \"))\n",
    "if a1%5==0:\n",
    "    print(\"Yes, it's multiple of 5\")\n",
    "else:\n",
    "    print(\"No, it's not a multiple of 5\")"
   ]
  },
  {
   "cell_type": "code",
   "execution_count": null,
   "id": "a3d2fb3c-1619-4223-bcb8-1af0dfca71f2",
   "metadata": {},
   "outputs": [],
   "source": [
    "# 7. Check if a character is a vowel or consonant ?\n",
    "a1=input(\"Enter the aplhabet: \")\n",
    "a2='aeiou'\n",
    "if a1 in a2 :\n",
    "    print(\"It's a vowel\")\n",
    "else:\n",
    "    print(\"It's a consonant\")\n"
   ]
  },
  {
   "cell_type": "code",
   "execution_count": null,
   "id": "a1dbc4be-9582-4d88-bfd3-f29e91050909",
   "metadata": {},
   "outputs": [],
   "source": [
    "# 8.  Determine if a person is eligible for a senior citizen discount (age 60+) ?\n",
    "a1=int(input(\"Enter age: \"))\n",
    "if a1>=60:\n",
    "    print(\"Eligible\")\n",
    "else:\n",
    "    print(\"Not Eligible\")"
   ]
  },
  {
   "cell_type": "code",
   "execution_count": null,
   "id": "91e109af-65e1-4f14-9490-e833164d4e86",
   "metadata": {},
   "outputs": [],
   "source": [
    "# 9. check if a number is a single-digit number\n",
    "a1=int(input(\"Enter the number: \"))\n",
    "if 0 <= abs(a1) < 10:\n",
    "    print(\"Single digit number\")\n",
    "else:\n",
    "    print(\"Not a single digit number\")"
   ]
  },
  {
   "cell_type": "code",
   "execution_count": null,
   "id": "2acaa486-2ce4-4d21-a7b7-cb57f66719a5",
   "metadata": {},
   "outputs": [],
   "source": [
    "# 10.  Print \"Good Morning\" if the time is before 12 PM, otherwise print \"Good Afternoon\" ?\n",
    "a1=int(input(\"Enter the number: \"))\n",
    "if a1<12:\n",
    "    print(\"Good Morning\")\n",
    "else:\n",
    "    print(\"Good Afternoon\")"
   ]
  },
  {
   "cell_type": "code",
   "execution_count": null,
   "id": "37753bbf-c037-4944-99c2-08dbf92108ec",
   "metadata": {},
   "outputs": [],
   "source": [
    "# 11. Check if a string is empty or not ?\n",
    "s1=input(\"Enter the string: \")\n",
    "if  not s1:\n",
    "    print(\"String is empty\")\n",
    "else:\n",
    "    print(\"String is not empty\")"
   ]
  },
  {
   "cell_type": "code",
   "execution_count": null,
   "id": "7ee47f18-e8f3-4cfc-ae15-e71a592d4315",
   "metadata": {},
   "outputs": [],
   "source": [
    "# 12. Verify if a number is a perfect square ?\n",
    "import math\n",
    "a1=int(input(\"Enter the number: \"))\n",
    "if math.isqrt(a1)**2 == a1:\n",
    "    print(\"Perfect Square\")\n",
    "else:\n",
    "    print(\"Not a Perfect Square\")"
   ]
  },
  {
   "cell_type": "code",
   "execution_count": null,
   "id": "414cc1b4-1722-4e30-bab5-a03c02dd588f",
   "metadata": {},
   "outputs": [],
   "source": [
    "# 13. Determine if a number is between 1 and 100 ?\n",
    "a1=int(input(\"Enter the number: \"))\n",
    "if 1 <= a1 <=100:\n",
    "    print(\"within range\")\n",
    "else:\n",
    "    print(\"Out of range\")"
   ]
  },
  {
   "cell_type": "code",
   "execution_count": null,
   "id": "0c353559-48cb-4bb0-9c73-e8197e1c4717",
   "metadata": {},
   "outputs": [],
   "source": [
    "# 14.  Print \"Weekend\" if the day is Saturday or Sunday; otherwise, print \"Weekday\" ?\n",
    "a1=input(\"Enter the day: \")\n",
    "if a1 in ['Saturday','Sunday']:\n",
    "    print(\"Weekend\")\n",
    "else:\n",
    "    print(\"Weekday\")"
   ]
  },
  {
   "cell_type": "code",
   "execution_count": null,
   "id": "dcb1b2dc-6d1e-4d77-82fc-dd7e9f1ca6a0",
   "metadata": {},
   "outputs": [],
   "source": [
    "# 15. Find if a given number is exactly divisible by both 3 and 7 ?\n",
    "a1=int(input(\"Enter the number: \"))\n",
    "if a1%3==0 and a1%7==0:\n",
    "    print(\"Divisible\")\n",
    "else:\n",
    "    print(\"Not Divisible\")"
   ]
  },
  {
   "cell_type": "code",
   "execution_count": null,
   "id": "c98f4f52-30b6-47eb-936a-6c8793f95012",
   "metadata": {},
   "outputs": [],
   "source": [
    "# 16. Check if the sum of two numbers is greater than 100 ?\n",
    "a1=int(input(\"Enter first number: \"))\n",
    "a2=int(input(\"Enter second number: \"))\n",
    "if(a1+a2) > 100:\n",
    "    print(\"Sum is greater than 100\")\n",
    "else:\n",
    "    print(\"Sum is 100 or less\")"
   ]
  },
  {
   "cell_type": "code",
   "execution_count": null,
   "id": "7637c197-4c91-4aac-919f-81214d9670df",
   "metadata": {},
   "outputs": [],
   "source": [
    "# 17. Write a program to find the minimum of two numbers ?\n",
    "a1=int(input(\"Enter first number: \"))\n",
    "a2=int(input(\"Enter second number: \"))\n",
    "if a1<a2:\n",
    "    print(a1,\"is minimum\")\n",
    "else:\n",
    "    print(a2,\"is minimum\")"
   ]
  },
  {
   "cell_type": "code",
   "execution_count": null,
   "id": "5439068f-07c2-4454-b84c-c832cf78b91f",
   "metadata": {},
   "outputs": [],
   "source": [
    "# 18. Check if a number is divisible by 2 but not by 3 ?\n",
    "a1=int(input(\"Enter first number: \"))\n",
    "if a1%2==0 and a1%3!=0:\n",
    "    print(\"Divisible by 2 not 3\")\n",
    "else:\n",
    "    print(\"Incorrect input\")"
   ]
  },
  {
   "cell_type": "code",
   "execution_count": null,
   "id": "72f98b06-4f9d-4ee4-a725-efe4e23a912e",
   "metadata": {},
   "outputs": [],
   "source": [
    "# 19. Determine if a given alphabet is uppercase or lowercase ?\n",
    "a1=input(\"Enter the alphabet\")\n",
    "if a1.isupper():\n",
    "    print(\"Uppercase\")\n",
    "else:\n",
    "    print(\"Lowercase\")"
   ]
  },
  {
   "cell_type": "code",
   "execution_count": null,
   "id": "3b3fb19b-e788-4552-9acc-0c26c5089d60",
   "metadata": {},
   "outputs": [],
   "source": [
    "# 20. Check if a triangle is valid given three side lengths ?\n",
    "a1=int(input(\"Enter first number: \"))\n",
    "a2=int(input(\"Enter second number: \"))\n",
    "a3=int(input(\"Enter third number: \"))\n",
    "if a1+a2>a3 and a2+a3>a1 and a1+a3>a2:\n",
    "    print(\"Valid Triangle\")\n",
    "else:\n",
    "    print(\"Invalid Triangle\")"
   ]
  },
  {
   "cell_type": "markdown",
   "id": "01f5f7b8-9dbe-4a7c-817c-420c8bc93df1",
   "metadata": {},
   "source": [
    "# Medium Level (21-40)"
   ]
  },
  {
   "cell_type": "code",
   "execution_count": null,
   "id": "b2cade4a-e6d7-4a41-b848-b634a0876954",
   "metadata": {},
   "outputs": [],
   "source": [
    "# 21.  Find the largest of three numbers ?\n",
    "a1=int(input(\"Enter first number: \"))\n",
    "a2=int(input(\"Enter second number: \"))\n",
    "a3=int(input(\"Enter third number: \"))\n",
    "if a1>a2 and a1>a3:\n",
    "    print(a1,\"is largest number\")\n",
    "elif a2>a1 and a2>a3:\n",
    "    print(a2,\"is largest number\")\n",
    "else:\n",
    "    print(a3,\"is largest number\")"
   ]
  },
  {
   "cell_type": "code",
   "execution_count": null,
   "id": "3e980697-b09e-4929-8f8c-5bf1762c03cb",
   "metadata": {},
   "outputs": [],
   "source": [
    "# 22. Determine if a number is a prime number ?\n",
    "a1=int(input(\"Enter the number: \"))\n",
    "if a1>1:\n",
    "    for i in range(2,a1):\n",
    "        if a1%i==0:\n",
    "            print(a1,\"is not a prime\")\n",
    "            break;\n",
    "    else:\n",
    "        print(a1,\"is prime number\")\n",
    "else:\n",
    "    print(a1,\"is not a prime number\")"
   ]
  },
  {
   "cell_type": "code",
   "execution_count": null,
   "id": "8767c8c0-c154-489b-b16c-1294018737fc",
   "metadata": {},
   "outputs": [],
   "source": [
    "# 23. Check if a person is eligible for a driving license\n",
    "a1=int(input(\"Enter the age: \"))\n",
    "test_pass=input(\"Did you pass the test? (yes/no): \").lower()\n",
    "if a1>=18 and test_pass==\"yes\":\n",
    "    print(\"you are eligible for driving license and passed the test\")\n",
    "else:\n",
    "    print(\"you are not eligible for driving license and didn't pass the test\")"
   ]
  },
  {
   "cell_type": "code",
   "execution_count": null,
   "id": "1ba39bff-4578-43c7-a9b8-835ff7d08425",
   "metadata": {},
   "outputs": [],
   "source": [
    "# 24. Determine if a triangle is equilateral, isosceles, or scalene ?\n",
    "a1=int(input(\"Enter first number: \"))\n",
    "a2=int(input(\"Enter second number: \"))\n",
    "a3=int(input(\"Enter third number: \"))\n",
    "if a1==a2==a3:\n",
    "    print(\"Equilateral Triangle\")\n",
    "elif a1==a2 or a2==a3 or a3==a1:\n",
    "    print(\"Isosceles Triangle\")\n",
    "else:\n",
    "    print(\"Scalene triangle\")"
   ]
  },
  {
   "cell_type": "code",
   "execution_count": null,
   "id": "33f3401a-4ae8-4ccd-bb1b-8368c6562f2b",
   "metadata": {},
   "outputs": [],
   "source": [
    "# 25. Determine if a student passes or fails ?\n",
    "a1=int(input(\"Enter marks: \"))\n",
    "if a1>=36:\n",
    "    print(\"You are passed\")\n",
    "else:\n",
    "    print(\"You are failed\")"
   ]
  },
  {
   "cell_type": "code",
   "execution_count": null,
   "id": "685fffc4-d958-4483-9bd5-0e4a007c79ca",
   "metadata": {},
   "outputs": [],
   "source": [
    "# 26. Check if a number is a palindrome ?\n",
    "a1=input(\"Enter number: \")\n",
    "if a1 == a1[::-1]:\n",
    "    print(\"It's a palindrome\")\n",
    "else:\n",
    "    print(\"Not a palindrome\")"
   ]
  },
  {
   "cell_type": "code",
   "execution_count": null,
   "id": "9b5bd756-e33a-4d86-ae31-80162695534b",
   "metadata": {},
   "outputs": [],
   "source": [
    "# 27. Calculate electricity bill ?\n",
    "a1=int(input(\"Enter the units: \"))\n",
    "if a1<=100:\n",
    "    bill=a1*5\n",
    "elif a1<=300:\n",
    "    bill=(100*5)+(a1-100)*10\n",
    "else:\n",
    "    bill=(100*5)+(200*10)+(a1-300)*15\n",
    "print(\"Total bill: \",\"₹\",bill)"
   ]
  },
  {
   "cell_type": "code",
   "execution_count": null,
   "id": "f4f5b9ee-1ebf-4238-9675-7052291451fc",
   "metadata": {},
   "outputs": [],
   "source": [
    "# 28. Find the grade of a student?\n",
    "a1=int(input(\"Enter marks: \"))\n",
    "if a1>=90:\n",
    "    print(\"A Grade\")\n",
    "elif a1>=80:\n",
    "    print(\"B Grade\")\n",
    "elif a1>=50:\n",
    "    print(\"C Grade\")\n",
    "elif a1>=40:\n",
    "    print(\"D Grade\")\n",
    "else:\n",
    "    print(\"E Grade\")"
   ]
  },
  {
   "cell_type": "code",
   "execution_count": null,
   "id": "b9f5e8c3-4bad-4b73-b464-29ee1da6b950",
   "metadata": {},
   "outputs": [],
   "source": [
    "# 29. Determine if a given date is valid ?\n",
    "import calendar   \n",
    "day = int(input(\"Enter day: \"))   \n",
    "month = int(input(\"Enter month: \"))   \n",
    "year = int(input(\"Enter year: \"))   \n",
    "if 1 <= month <= 12 and 1 <= day <= calendar.monthrange(year, month)[1]:   \n",
    "    print(\"Valid date\")   \n",
    "else:   \n",
    "    print(\"Invalid date\") "
   ]
  },
  {
   "cell_type": "code",
   "execution_count": null,
   "id": "f893cab7-2712-4ccc-bb1e-9c42d4ba067a",
   "metadata": {},
   "outputs": [],
   "source": [
    "# 30. Check if a given time is AM or PM ?\n",
    "a1 = int(input(\"Enter day: \"))\n",
    "if a1>12:\n",
    "    print(\"PM\")\n",
    "else:\n",
    "    print(\"AM\")"
   ]
  },
  {
   "cell_type": "code",
   "execution_count": null,
   "id": "11385a17-8c53-41a1-9792-7ea757c2ddcd",
   "metadata": {},
   "outputs": [],
   "source": [
    "# 31. Check if a number is an Armstrong number ?\n",
    "a1=input(\"Enter the number: \")\n",
    "power = len(a1)\n",
    "if sum(int(digit) ** power for digit in a1) == int(a1):  \n",
    "    print(\"Armstrong Number\")\n",
    "else:\n",
    "    print(\"Not Armstrong Number\")"
   ]
  },
  {
   "cell_type": "code",
   "execution_count": null,
   "id": "b09dd1ad-b315-4b05-9f2a-00ea774ec9d2",
   "metadata": {},
   "outputs": [],
   "source": [
    "# 32. Determine the type of quadrilateral ?\n",
    "a1=int(input(\"Enter the number: \"))\n",
    "a2=int(input(\"Enter the number: \"))\n",
    "a3=int(input(\"Enter the number: \"))\n",
    "a4=int(input(\"Enter the number: \"))\n",
    "if a1==a2==a3==a4:\n",
    "    print(\"Square\")\n",
    "elif a1==a3 and a2==a4:\n",
    "    print(\"Rectangle\")\n",
    "else:\n",
    "    print(\"Quadrilateral\")"
   ]
  },
  {
   "cell_type": "code",
   "execution_count": null,
   "id": "0243c470-5a68-4a82-a9af-cdc7871c8f79",
   "metadata": {},
   "outputs": [],
   "source": [
    "# 33.  Implement a basic calculator ?\n",
    "a1=float(input(\"Enter the number: \"))\n",
    "a2=float(input(\"Enter the number: \"))\n",
    "op=input(\"Enter any operator from this (+,-,/,*): \")\n",
    "if op==\"+\":\n",
    "    print(\"Result: \",a1+a2)\n",
    "elif op==\"-\":\n",
    "    print(\"Result: \",a1-a2)\n",
    "elif op==\"/\":\n",
    "    print(\"Result: \",a1/a2)\n",
    "elif op==\"*\":\n",
    "    print(\"Result: \",a1*a2)\n",
    "else:\n",
    "    print(\"Invalid Operation\")"
   ]
  },
  {
   "cell_type": "code",
   "execution_count": null,
   "id": "654aa62f-ad72-4d5e-83ed-b613237fc581",
   "metadata": {},
   "outputs": [],
   "source": [
    "# 34. Check if a bank account balance is sufficient for withdrawal ?\n",
    "withdrawl=float(input(\"Enter the balance: \"))\n",
    "balance=float(input(\"Enter the withdrwal amount: \"))\n",
    "if withdrawl>=balance:\n",
    "    print(\"Withdrawl Successfull\")\n",
    "else:\n",
    "    print(\"Insufficient balance\")"
   ]
  },
  {
   "cell_type": "code",
   "execution_count": null,
   "id": "8463ab8c-2ca5-4b0f-8961-770d8407a5a4",
   "metadata": {},
   "outputs": [],
   "source": [
    "# 35. Implement a temperature converter ?\n",
    "temp=float(input(\"Enter temperature: \"))\n",
    "unit=input(\"Enter unit (C/F/K): \").upper()\n",
    "if unit == \"C\":\n",
    "    print(\"Fahrenheit: \",(temp*9/5)+32)\n",
    "elif unit == \"F\":\n",
    "    print(\"Celsius: \",(temp-32)*5/9)\n",
    "elif unit == \"K\":\n",
    "    print(\"Kelvin: \",temp+273.15)\n",
    "else:\n",
    "    print(\"Invalid unit\")"
   ]
  },
  {
   "cell_type": "code",
   "execution_count": null,
   "id": "a869aded-13ad-4723-9bd7-20f7cc2da818",
   "metadata": {},
   "outputs": [],
   "source": [
    "# 36. Check if a number lies within a range (50-100) ?\n",
    "a1=int(input(\"Enter the number: \"))\n",
    "if a1>=50 and a1<=100: # if 50 <= a1 <= 100:\n",
    "    print(\"Within range\")\n",
    "else:\n",
    "    print(\"Out of Range\")"
   ]
  },
  {
   "cell_type": "code",
   "execution_count": null,
   "id": "b6d47131-dbc9-4806-9ca0-4f425691245a",
   "metadata": {},
   "outputs": [],
   "source": [
    "# 37. Determine if a year is a century year ?\n",
    "a1=int(input(\"Enter a year: \"))\n",
    "if a1%100==0:\n",
    "    print(\"Century year\")\n",
    "else:\n",
    "    print(\"Not a Century year\")"
   ]
  },
  {
   "cell_type": "code",
   "execution_count": null,
   "id": "074b4f60-1cf4-48c2-86a0-f73a1aafc80a",
   "metadata": {},
   "outputs": [],
   "source": [
    "# 38. Check if a number is a power of 2 ?\n",
    "a1=int(input(\"Enter the number: \"))\n",
    "if a1>0 and (a1&(a1-1)) ==0:\n",
    "    print(\"Power of 2\")\n",
    "else:\n",
    "    print(\"Not a power of 2\")"
   ]
  },
  {
   "cell_type": "code",
   "execution_count": null,
   "id": "10712f1d-7907-4c91-aa16-e60033e472eb",
   "metadata": {},
   "outputs": [],
   "source": [
    "# 39. Determine how many days a month has ?\n",
    "month = int(input(\"Enter month (1-12): \"))   \n",
    "year = int(input(\"Enter year: \"))   \n",
    "days = [31, 28 + (1 if (year % 4 == 0 and year % 100 != 0) or (year % 400 == 0) else 0), 31, \n",
    "30, 31, 30, 31, 31, 30, 31, 30, 31]   \n",
    "print(\"Days:\", days[month - 1]) # index starts from \"0\". so we are giving \"-1\""
   ]
  },
  {
   "cell_type": "code",
   "execution_count": null,
   "id": "e2b7fd16-e66a-4f8c-ac35-040583adb6b1",
   "metadata": {},
   "outputs": [],
   "source": [
    "# 40.  Validate a password ?\n",
    "import re   \n",
    "password = input(\"Enter password: \")   \n",
    "if len(password) >= 8 and re.search(r\"[A-Za-z]\", password) and re.search(r\"\\d\", password):   \n",
    "    print(\"Valid Password\")   \n",
    "else:   \n",
    "    print(\"Invalid Password\")  "
   ]
  },
  {
   "cell_type": "markdown",
   "id": "5e97e1d3-f383-4db6-a891-60c4f59ad795",
   "metadata": {},
   "source": [
    "# Hard Level (41-50)"
   ]
  },
  {
   "cell_type": "code",
   "execution_count": null,
   "id": "750fdb43-6c52-428d-8a09-0d6e46b14cd8",
   "metadata": {},
   "outputs": [],
   "source": [
    "# 41. Implement a ticket pricing system ?\n",
    "age=int(input(\"Enter age: \"))\n",
    "if age>18:\n",
    "    print(\"Ticket Price: ₹ 1000\")\n",
    "elif age>12:\n",
    "    print(\"Ticket Price: ₹ 600\")\n",
    "elif age>8:\n",
    "    print(\"Ticket Price: ₹ 400\")\n",
    "else:\n",
    "    print(\"Free\")"
   ]
  },
  {
   "cell_type": "code",
   "execution_count": null,
   "id": "68fcfe41-8139-427e-a587-2eccb6006ea3",
   "metadata": {},
   "outputs": [],
   "source": [
    "# 42. Check if three numbers form a Pythagorean triplet ?\n",
    "a,b,c=map(int,input(\"Enter three numbers: \").split())\n",
    "if a**2 and b**2 == c**2:\n",
    "    print(\"Yes, Pythagorean triplet\")\n",
    "else:\n",
    "    print(\"No, Cannot be formed\")"
   ]
  },
  {
   "cell_type": "code",
   "execution_count": null,
   "id": "778caf69-ac86-41e6-be42-1db6cf4f856e",
   "metadata": {},
   "outputs": [],
   "source": [
    "# 43. Convert a Roman numeral to an integer ? [practice]\n",
    "def roman_to_int(s):   \n",
    "    roman = {'I': 1, 'V': 5, 'X': 10, 'L': 50, 'C': 100, 'D': 500, 'M': 1000}   \n",
    "    total = 0   \n",
    "    for i in range(len(s)):   \n",
    "        if i > 0 and roman[s[i]] > roman[s[i - 1]]:   \n",
    "            total += roman[s[i]] - 2 * roman[s[i - 1]]   \n",
    "        else:   \n",
    "            total += roman[s[i]]   \n",
    "    return total   \n",
    " \n",
    "num = input(\"Enter Roman numeral: \").upper()   \n",
    "print(\"Integer:\", roman_to_int(num))   "
   ]
  },
  {
   "cell_type": "code",
   "execution_count": null,
   "id": "cd0331fb-2672-428f-b447-ac9ca5d0c059",
   "metadata": {},
   "outputs": [],
   "source": [
    "# 44. Determine zodiac sign based on birth date ? [practice]\n",
    "month = int(input(\"Enter birth month (1-12): \"))   \n",
    "day = int(input(\"Enter birth day: \"))   \n",
    " \n",
    "zodiac = [(\"Capricorn\", 20), (\"Aquarius\", 19), (\"Pisces\", 20), (\"Aries\", 20),   \n",
    "          (\"Taurus\", 21), (\"Gemini\", 21), (\"Cancer\", 22), (\"Leo\", 22),   \n",
    "          (\"Virgo\", 22), (\"Libra\", 23), (\"Scorpio\", 23), (\"Sagittarius\", 22), (\"Capricorn\", 31)]   \n",
    " \n",
    "sign = zodiac[month - 1][0] if day <= zodiac[month - 1][1] else zodiac[month][0]   \n",
    "print(\"Zodiac Sign:\", sign)  "
   ]
  },
  {
   "cell_type": "code",
   "execution_count": null,
   "id": "0b1208e8-5eb5-4801-938f-a5b2f3af7b24",
   "metadata": {},
   "outputs": [],
   "source": [
    "# 45. Check if a number is a Harshad number ? [practice] \n",
    "num = int(input(\"Enter a number: \"))   \n",
    "sum_digits = sum(int(digit) for digit in str(num))   \n",
    "if num % sum_digits == 0:   \n",
    "    print(\"Harshad Number\")   \n",
    "else:   \n",
    "    print(\"Not a Harshad Number\")   "
   ]
  },
  {
   "cell_type": "code",
   "execution_count": null,
   "id": "53263588-100f-4b80-9048-eb42a8b68138",
   "metadata": {},
   "outputs": [],
   "source": [
    "# 46. Validate an email format ? [practice]\n",
    "import re   \n",
    "email = input(\"Enter email: \")   \n",
    "if re.match(r\"^[\\w\\.-]+@[\\w\\.-]+\\.(com|org|net|edu)$\", email):   \n",
    "    print(\"Valid Email\")   \n",
    "else:   \n",
    "    print(\"Invalid Email\")   "
   ]
  },
  {
   "cell_type": "code",
   "execution_count": null,
   "id": "e0f6a7f2-134d-40ca-99f7-1bc19af18fdf",
   "metadata": {},
   "outputs": [],
   "source": [
    "# 47. Check if a knight move in chess is valid ? [practice]\n",
    "x1, y1 = map(int, input(\"Enter current position (x y): \").split())   \n",
    "x2, y2 = map(int, input(\"Enter new position (x y): \").split())   \n",
    " \n",
    "if (abs(x1 - x2), abs(y1 - y2)) in [(2, 1), (1, 2)]:   \n",
    "    print(\"Valid Knight Move\")   \n",
    "else:   \n",
    "    print(\"Invalid Move\")  "
   ]
  },
  {
   "cell_type": "code",
   "execution_count": null,
   "id": "55c931f4-50f6-427c-8087-2caa0867f089",
   "metadata": {},
   "outputs": [],
   "source": [
    "# 48.  Implement a loan eligibility checker ? [practice]\n",
    "income = int(input(\"Enter monthly income: \"))   \n",
    "credit_score = int(input(\"Enter credit score: \"))   \n",
    "employed = input(\"Are you employed? (yes/no): \").lower()   \n",
    " \n",
    "if income >= 25000 and credit_score >= 700 and employed == \"yes\":   \n",
    "    print(\"Loan Approved\")   \n",
    "else:   \n",
    "    print(\"Loan Denied\")  "
   ]
  },
  {
   "cell_type": "code",
   "execution_count": null,
   "id": "0df555fe-05fc-4199-8ec0-87ab3ed8abab",
   "metadata": {},
   "outputs": [],
   "source": [
    "# 49. Implement a rock-paper-scissors game ? [practice]\n",
    "import random\n",
    "choices = [\"rock\", \"paper\", \"scissors\"]\n",
    "user = input(\"Enter rock, paper, or scissors: \").lower()\n",
    "computer = random.choice(choices)\n",
    "\n",
    "print(\"Computer chose:\", computer)\n",
    "if user == computer:\n",
    "    print(\"It's a tie!\")\n",
    "elif (user == \"rock\" and computer == \"scissors\") or \\\n",
    "     (user == \"scissors\" and computer == \"paper\") or \\\n",
    "     (user == \"paper\" and computer == \"rock\"):\n",
    "    print(\"You win!\")\n",
    "else:\n",
    "    print(\"You lose!\")  "
   ]
  },
  {
   "cell_type": "code",
   "execution_count": null,
   "id": "8b9aa8e9-e4b2-4b95-bb0d-7f13850098cc",
   "metadata": {},
   "outputs": [],
   "source": [
    "# 50. Find the day of the week for a given date (without built-in functions) ? [practice]\n",
    "def day_of_week(d, m, y):   \n",
    "    if m < 3:   \n",
    "        m += 12   \n",
    "        y -= 1   \n",
    "    k = y % 100   \n",
    "    j = y // 100   \n",
    "    day = (d + (13 * (m + 1)) // 5 + k + (k // 4) + (j // 4) - 2 * j) % 7   \n",
    "    days = [\"Saturday\", \"Sunday\", \"Monday\", \"Tuesday\", \"Wednesday\", \"Thursday\", \"Friday\"]   \n",
    "    return days[day]   \n",
    " \n",
    "day, month, year = map(int, input(\"Enter date (DD MM YYYY): \").split())\n",
    "print(\"Day of the Week:\", day_of_week(day, month, year)) "
   ]
  }
 ],
 "metadata": {
  "kernelspec": {
   "display_name": "Python [conda env:base] *",
   "language": "python",
   "name": "conda-base-py"
  },
  "language_info": {
   "codemirror_mode": {
    "name": "ipython",
    "version": 3
   },
   "file_extension": ".py",
   "mimetype": "text/x-python",
   "name": "python",
   "nbconvert_exporter": "python",
   "pygments_lexer": "ipython3",
   "version": "3.12.7"
  }
 },
 "nbformat": 4,
 "nbformat_minor": 5
}
