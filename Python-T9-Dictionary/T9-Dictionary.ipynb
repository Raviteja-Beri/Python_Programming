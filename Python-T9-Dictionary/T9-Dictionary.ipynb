{
 "cells": [
  {
   "cell_type": "markdown",
   "id": "44b56dd6-3144-4a73-a7bc-02ca140fca19",
   "metadata": {},
   "source": [
    "# Set"
   ]
  },
  {
   "cell_type": "markdown",
   "id": "ac0fed36-a5be-4e0b-9ae3-fdd899698494",
   "metadata": {},
   "source": [
    "### Subset\n",
    "### Superset\n",
    "### Disjoint"
   ]
  },
  {
   "cell_type": "code",
   "execution_count": 2,
   "id": "3507925b-3a28-442d-a408-a53e4fa7134f",
   "metadata": {},
   "outputs": [
    {
     "name": "stdout",
     "output_type": "stream",
     "text": [
      "{1, 2, 3, 4, 5, 6, 7, 8, 9}\n",
      "{3, 4, 5, 6, 7, 8}\n",
      "{40, 10, 20, 30}\n"
     ]
    }
   ],
   "source": [
    "A={1,2,3,4,5,6,7,8,9}\n",
    "B={3,4,5,6,7,8}\n",
    "C={10,20,30,40}\n",
    "print(A)\n",
    "print(B)\n",
    "print(C)"
   ]
  },
  {
   "cell_type": "code",
   "execution_count": 6,
   "id": "f392801b-a831-498c-ab89-d6ff6f4895be",
   "metadata": {},
   "outputs": [
    {
     "data": {
      "text/plain": [
       "False"
      ]
     },
     "execution_count": 6,
     "metadata": {},
     "output_type": "execute_result"
    }
   ],
   "source": [
    "A.issubset(B) # A is not a Subset of B because, all the elements present in the 'A' are not in 'B'"
   ]
  },
  {
   "cell_type": "code",
   "execution_count": 8,
   "id": "efce7f90-4031-414f-b269-56a40b18508e",
   "metadata": {},
   "outputs": [
    {
     "data": {
      "text/plain": [
       "True"
      ]
     },
     "execution_count": 8,
     "metadata": {},
     "output_type": "execute_result"
    }
   ],
   "source": [
    "B.issubset(A) # B is a subset because, all the elements of 'B' are present in 'A'."
   ]
  },
  {
   "cell_type": "code",
   "execution_count": 12,
   "id": "3af71ac3-4460-49c5-b3f8-27b19564ef2a",
   "metadata": {},
   "outputs": [
    {
     "data": {
      "text/plain": [
       "False"
      ]
     },
     "execution_count": 12,
     "metadata": {},
     "output_type": "execute_result"
    }
   ],
   "source": [
    "B.issuperset(A) # B is not a superset because, all the elements of 'A' are not present in 'B'."
   ]
  },
  {
   "cell_type": "code",
   "execution_count": 14,
   "id": "1ed4f6a8-6716-47f6-9d79-917f5e608ce8",
   "metadata": {},
   "outputs": [
    {
     "data": {
      "text/plain": [
       "True"
      ]
     },
     "execution_count": 14,
     "metadata": {},
     "output_type": "execute_result"
    }
   ],
   "source": [
    "A.issuperset(B) # A is superset now. beCause all the elements of B are also present in the 'A' set. so Set A is a superset"
   ]
  },
  {
   "cell_type": "code",
   "execution_count": 16,
   "id": "5eb97126-d4af-4db6-899f-8564fc53bad6",
   "metadata": {},
   "outputs": [
    {
     "data": {
      "text/plain": [
       "False"
      ]
     },
     "execution_count": 16,
     "metadata": {},
     "output_type": "execute_result"
    }
   ],
   "source": [
    "A.isdisjoint(B) # If there are no common elements then it is said to be disjoint. so here there are no common elements. Hence, False"
   ]
  },
  {
   "cell_type": "code",
   "execution_count": 18,
   "id": "6ae7500a-b7ff-43b0-976d-da9c2da14312",
   "metadata": {},
   "outputs": [
    {
     "data": {
      "text/plain": [
       "True"
      ]
     },
     "execution_count": 18,
     "metadata": {},
     "output_type": "execute_result"
    }
   ],
   "source": [
    "A.isdisjoint(C) # Here we have common elements.so, True"
   ]
  },
  {
   "cell_type": "code",
   "execution_count": null,
   "id": "c38a6d3f-27b9-4cdb-b848-742ba20eb249",
   "metadata": {},
   "outputs": [],
   "source": [
    "A.tab # It gives you all the functions i.e., add, clear, copy, difference, difference_update, \n",
    "     # discard, intersection, intersection_update, isdisjoint, isuperset, issubset, pop,\n",
    "    # remove, union, update, symmetric_difference, symmetric_difference_update"
   ]
  },
  {
   "cell_type": "code",
   "execution_count": 20,
   "id": "2f76f53b-fb27-467e-97c8-bd3beef16abb",
   "metadata": {},
   "outputs": [
    {
     "data": {
      "text/plain": [
       "45"
      ]
     },
     "execution_count": 20,
     "metadata": {},
     "output_type": "execute_result"
    }
   ],
   "source": [
    "sum(A)"
   ]
  },
  {
   "cell_type": "code",
   "execution_count": 22,
   "id": "86ebafe7-8104-46ba-8170-2e73082a3e7e",
   "metadata": {},
   "outputs": [
    {
     "data": {
      "text/plain": [
       "9"
      ]
     },
     "execution_count": 22,
     "metadata": {},
     "output_type": "execute_result"
    }
   ],
   "source": [
    "max(A)"
   ]
  },
  {
   "cell_type": "code",
   "execution_count": 24,
   "id": "d1e6c782-a0eb-4c8a-8745-c38cfb44a5b3",
   "metadata": {},
   "outputs": [
    {
     "data": {
      "text/plain": [
       "1"
      ]
     },
     "execution_count": 24,
     "metadata": {},
     "output_type": "execute_result"
    }
   ],
   "source": [
    "min(A)"
   ]
  },
  {
   "cell_type": "code",
   "execution_count": 27,
   "id": "a103f981-d71c-4822-a2c1-3d42f9b17079",
   "metadata": {},
   "outputs": [
    {
     "data": {
      "text/plain": [
       "9"
      ]
     },
     "execution_count": 27,
     "metadata": {},
     "output_type": "execute_result"
    }
   ],
   "source": [
    "len(A)"
   ]
  },
  {
   "cell_type": "markdown",
   "id": "8a11d6ee-3ebc-4a0d-9d17-3fc8617ac699",
   "metadata": {},
   "source": [
    "# Dictionary"
   ]
  },
  {
   "cell_type": "code",
   "execution_count": 32,
   "id": "3fe6931c-945b-40f7-a45e-a3bb7cf93c96",
   "metadata": {},
   "outputs": [
    {
     "data": {
      "text/plain": [
       "{}"
      ]
     },
     "execution_count": 32,
     "metadata": {},
     "output_type": "execute_result"
    }
   ],
   "source": [
    "mydict=dict() # Empty Dictionary\n",
    "mydict"
   ]
  },
  {
   "cell_type": "code",
   "execution_count": 34,
   "id": "8700efe6-0910-42b2-ab88-45d1409bcc28",
   "metadata": {},
   "outputs": [
    {
     "data": {
      "text/plain": [
       "{}"
      ]
     },
     "execution_count": 34,
     "metadata": {},
     "output_type": "execute_result"
    }
   ],
   "source": [
    "mydict={} # Empty Dictionary\n",
    "mydict"
   ]
  },
  {
   "cell_type": "code",
   "execution_count": 36,
   "id": "e8d3324c-0d98-4d6e-aad1-ba6a75b3d615",
   "metadata": {},
   "outputs": [
    {
     "data": {
      "text/plain": [
       "{1: 'one', 2: 'two', 3: 'three'}"
      ]
     },
     "execution_count": 36,
     "metadata": {},
     "output_type": "execute_result"
    }
   ],
   "source": [
    "mydict={1:'one',2:'two',3:'three'} # Dictionary with integer keys\n",
    "mydict                             # Here 1=Key, One=Value\n",
    "                                   # Keys cannot be duplicate. Always it should be unique.\n",
    "                                   # Values can be duplicate."
   ]
  },
  {
   "cell_type": "code",
   "execution_count": 40,
   "id": "95e25802-5f6a-4490-a0fb-b842efddabb0",
   "metadata": {},
   "outputs": [
    {
     "data": {
      "text/plain": [
       "{1: 'one', 2: 'two', 3: 'three'}"
      ]
     },
     "execution_count": 40,
     "metadata": {},
     "output_type": "execute_result"
    }
   ],
   "source": [
    "mydict"
   ]
  },
  {
   "cell_type": "code",
   "execution_count": 45,
   "id": "7bec819a-c196-4887-a853-039f138ea689",
   "metadata": {},
   "outputs": [
    {
     "data": {
      "text/plain": [
       "{1: 'one', 2: 'two', 3: 'three'}"
      ]
     },
     "execution_count": 45,
     "metadata": {},
     "output_type": "execute_result"
    }
   ],
   "source": [
    "mydict=dict({1: 'one', 2: 'two', 3: 'three'}) # Creating dictionary using dict(). It gives same output.\n",
    "mydict"
   ]
  },
  {
   "cell_type": "code",
   "execution_count": 47,
   "id": "c3eeddee-7f6a-4cab-97eb-43a1487b5f93",
   "metadata": {},
   "outputs": [
    {
     "data": {
      "text/plain": [
       "{'A': 'one', 'B': 'Two', 'C': 'Three'}"
      ]
     },
     "execution_count": 47,
     "metadata": {},
     "output_type": "execute_result"
    }
   ],
   "source": [
    "mydict={'A':'one','B':'Two','C':'Three'} # Dictionary with character keys.\n",
    "mydict"
   ]
  },
  {
   "cell_type": "code",
   "execution_count": 49,
   "id": "cb152b72-ef9b-4e1d-89a1-2049f73cd603",
   "metadata": {},
   "outputs": [
    {
     "data": {
      "text/plain": [
       "{'A': 'one', 2: 'two', 3: 'Three'}"
      ]
     },
     "execution_count": 49,
     "metadata": {},
     "output_type": "execute_result"
    }
   ],
   "source": [
    "mydict={'A':'one',2:'two',3:'Three'} # Dictionary with Mixed Keys. \n",
    "mydict"
   ]
  },
  {
   "cell_type": "code",
   "execution_count": 51,
   "id": "9c9078e8-826f-46a7-ae10-190c3024859e",
   "metadata": {},
   "outputs": [
    {
     "data": {
      "text/plain": [
       "dict_keys(['A', 2, 3])"
      ]
     },
     "execution_count": 51,
     "metadata": {},
     "output_type": "execute_result"
    }
   ],
   "source": [
    "mydict.keys() # To get the keys as output."
   ]
  },
  {
   "cell_type": "code",
   "execution_count": 53,
   "id": "32177dd2-67e7-4d01-8b57-b6329426f6e0",
   "metadata": {},
   "outputs": [
    {
     "data": {
      "text/plain": [
       "dict_values(['one', 'two', 'Three'])"
      ]
     },
     "execution_count": 53,
     "metadata": {},
     "output_type": "execute_result"
    }
   ],
   "source": [
    "mydict.values() # To get the values as output."
   ]
  },
  {
   "cell_type": "code",
   "execution_count": 55,
   "id": "f3d2524f-d4b3-462b-9cff-4c15f3966a38",
   "metadata": {},
   "outputs": [
    {
     "data": {
      "text/plain": [
       "dict_items([('A', 'one'), (2, 'two'), (3, 'Three')])"
      ]
     },
     "execution_count": 55,
     "metadata": {},
     "output_type": "execute_result"
    }
   ],
   "source": [
    "mydict.items() # access each key-value pair that present within a dictionary."
   ]
  },
  {
   "cell_type": "code",
   "execution_count": 57,
   "id": "666bd7b9-c8d7-4072-8481-ae17c9d7a99e",
   "metadata": {},
   "outputs": [
    {
     "data": {
      "text/plain": [
       "{1: 'one',\n",
       " 2: 'two',\n",
       " 3: 'three',\n",
       " 'A': ['ravi', 'teja', 'beri'],\n",
       " 'B': ['cat', 'bat', 'rat']}"
      ]
     },
     "execution_count": 57,
     "metadata": {},
     "output_type": "execute_result"
    }
   ],
   "source": [
    "mydict={1:'one',2:'two',3:'three','A':['ravi','teja','beri'],'B':['cat','bat','rat']}\n",
    "mydict  # Dictionary with nested list."
   ]
  },
  {
   "cell_type": "code",
   "execution_count": 59,
   "id": "135a96c3-28fe-48c7-95e3-e3013edcae27",
   "metadata": {},
   "outputs": [
    {
     "data": {
      "text/plain": [
       "{'c': None, 'd': None, 'b': None, 'a': None}"
      ]
     },
     "execution_count": 59,
     "metadata": {},
     "output_type": "execute_result"
    }
   ],
   "source": [
    "keys={'a','b','c','d'} # Creates a dictionary from a sequence of keys without values.\n",
    "d1=dict.fromkeys(keys)\n",
    "d1"
   ]
  },
  {
   "cell_type": "code",
   "execution_count": 65,
   "id": "15900efa-3e97-4b43-b720-ca63bd0cbeb6",
   "metadata": {},
   "outputs": [
    {
     "data": {
      "text/plain": [
       "{'c': 10, 'd': 10, 'b': 10, 'a': 10}"
      ]
     },
     "execution_count": 65,
     "metadata": {},
     "output_type": "execute_result"
    }
   ],
   "source": [
    "keys={'a','b','c','d'} # Creates a dictionary from a sequence of keys with values. Here It takes 10 for all the keys.\n",
    "value=10\n",
    "d1=dict.fromkeys(keys, value)\n",
    "d1"
   ]
  },
  {
   "cell_type": "code",
   "execution_count": 90,
   "id": "86c569b4-8943-432f-a060-942f1e19573e",
   "metadata": {},
   "outputs": [
    {
     "data": {
      "text/plain": [
       "{'c': [10, 20, 30, 40, 50],\n",
       " 'd': [10, 20, 30, 40, 50],\n",
       " 'b': [10, 20, 30, 40, 50],\n",
       " 'a': [10, 20, 30, 40, 50]}"
      ]
     },
     "execution_count": 90,
     "metadata": {},
     "output_type": "execute_result"
    }
   ],
   "source": [
    "keys={'a','b','c','d'} # Creates a dictionary from a sequence of keys with values.\n",
    "value=[10,20,30,40,50]\n",
    "d1=dict.fromkeys(keys, value)\n",
    "d1"
   ]
  },
  {
   "cell_type": "code",
   "execution_count": 92,
   "id": "c94cca9b-07e2-45de-9811-94e43310cacf",
   "metadata": {},
   "outputs": [
    {
     "data": {
      "text/plain": [
       "{'c': [10, 20, 30, 40, 50, 60],\n",
       " 'd': [10, 20, 30, 40, 50, 60],\n",
       " 'b': [10, 20, 30, 40, 50, 60],\n",
       " 'a': [10, 20, 30, 40, 50, 60]}"
      ]
     },
     "execution_count": 92,
     "metadata": {},
     "output_type": "execute_result"
    }
   ],
   "source": [
    "value.append(60) # adding the elements at last.\n",
    "d1"
   ]
  },
  {
   "cell_type": "markdown",
   "id": "f53b7cd2-52fc-4566-b34c-ffa862c949e7",
   "metadata": {},
   "source": [
    "### Accessing Items"
   ]
  },
  {
   "cell_type": "code",
   "execution_count": 94,
   "id": "c256ab94-9727-4f9e-8c6e-bcd1e55f9d7d",
   "metadata": {},
   "outputs": [
    {
     "data": {
      "text/plain": [
       "{'c': [10, 20, 30, 40, 50, 60],\n",
       " 'd': [10, 20, 30, 40, 50, 60],\n",
       " 'b': [10, 20, 30, 40, 50, 60],\n",
       " 'a': [10, 20, 30, 40, 50, 60]}"
      ]
     },
     "execution_count": 94,
     "metadata": {},
     "output_type": "execute_result"
    }
   ],
   "source": [
    "d1"
   ]
  },
  {
   "cell_type": "code",
   "execution_count": 96,
   "id": "8e2eecd2-10ff-4313-817d-82a9b2a11918",
   "metadata": {},
   "outputs": [
    {
     "data": {
      "text/plain": [
       "[10, 20, 30, 40, 50, 60]"
      ]
     },
     "execution_count": 96,
     "metadata": {},
     "output_type": "execute_result"
    }
   ],
   "source": [
    "d1.pop('b') # It removes/deletes items and pop's out the 'b' with entire 'values' only."
   ]
  },
  {
   "cell_type": "code",
   "execution_count": 172,
   "id": "197b1066-908c-4131-a418-2cdd9799d9fb",
   "metadata": {},
   "outputs": [
    {
     "data": {
      "text/plain": [
       "('a', [10, 20, 30, 40, 50, 60])"
      ]
     },
     "execution_count": 172,
     "metadata": {},
     "output_type": "execute_result"
    }
   ],
   "source": [
    "d1.popitem() # It pop's out with both 'keys' and 'value'.But, won't delete as 'pop'. \n",
    "            # A random item is removed.\n",
    "             # Its the only difference between 'pop' and 'popitem'."
   ]
  },
  {
   "cell_type": "code",
   "execution_count": 104,
   "id": "e380c089-4edb-404a-9091-3b30f50d6422",
   "metadata": {},
   "outputs": [
    {
     "ename": "KeyError",
     "evalue": "'c'",
     "output_type": "error",
     "traceback": [
      "\u001b[1;31m---------------------------------------------------------------------------\u001b[0m",
      "\u001b[1;31mKeyError\u001b[0m                                  Traceback (most recent call last)",
      "Cell \u001b[1;32mIn[104], line 1\u001b[0m\n\u001b[1;32m----> 1\u001b[0m d1\u001b[38;5;241m.\u001b[39mpop(\u001b[38;5;124m'\u001b[39m\u001b[38;5;124mc\u001b[39m\u001b[38;5;124m'\u001b[39m)\n\u001b[0;32m      2\u001b[0m d1\n",
      "\u001b[1;31mKeyError\u001b[0m: 'c'"
     ]
    }
   ],
   "source": [
    "d1.pop('c')\n",
    "d1"
   ]
  },
  {
   "cell_type": "code",
   "execution_count": 106,
   "id": "e3da952b-57d2-4381-85ba-e0e261d318cf",
   "metadata": {},
   "outputs": [
    {
     "data": {
      "text/plain": [
       "[10, 20, 30, 40, 50, 60]"
      ]
     },
     "execution_count": 106,
     "metadata": {},
     "output_type": "execute_result"
    }
   ],
   "source": [
    "d1.pop('d')"
   ]
  },
  {
   "cell_type": "code",
   "execution_count": 108,
   "id": "01b6c005-1004-428c-86dd-5253eba45d2d",
   "metadata": {},
   "outputs": [
    {
     "data": {
      "text/plain": [
       "{'a': [10, 20, 30, 40, 50, 60]}"
      ]
     },
     "execution_count": 108,
     "metadata": {},
     "output_type": "execute_result"
    }
   ],
   "source": [
    "d1"
   ]
  },
  {
   "cell_type": "code",
   "execution_count": 112,
   "id": "56a19daa-51b3-4e04-b1c7-0d789c0e1627",
   "metadata": {},
   "outputs": [
    {
     "data": {
      "text/plain": [
       "[10, 20, 30, 40, 50, 60]"
      ]
     },
     "execution_count": 112,
     "metadata": {},
     "output_type": "execute_result"
    }
   ],
   "source": [
    "d1['a'] # Accessing item using 'key'"
   ]
  },
  {
   "cell_type": "code",
   "execution_count": 118,
   "id": "faa621ad-eb98-42fb-9e39-029a6eba2099",
   "metadata": {},
   "outputs": [
    {
     "data": {
      "text/plain": [
       "{1: 'one', 2: 'two', 3: 'three'}"
      ]
     },
     "execution_count": 118,
     "metadata": {},
     "output_type": "execute_result"
    }
   ],
   "source": [
    "d2={1:'one',2:'two',3:'three'}\n",
    "d2"
   ]
  },
  {
   "cell_type": "code",
   "execution_count": 120,
   "id": "dff466af-c93c-43ab-9a8e-fdb9d74df41e",
   "metadata": {},
   "outputs": [
    {
     "data": {
      "text/plain": [
       "'one'"
      ]
     },
     "execution_count": 120,
     "metadata": {},
     "output_type": "execute_result"
    }
   ],
   "source": [
    "d2[1]"
   ]
  },
  {
   "cell_type": "code",
   "execution_count": 122,
   "id": "d669a861-e4fb-4ce0-82f7-6df0dbb5f74a",
   "metadata": {},
   "outputs": [
    {
     "data": {
      "text/plain": [
       "'three'"
      ]
     },
     "execution_count": 122,
     "metadata": {},
     "output_type": "execute_result"
    }
   ],
   "source": [
    "d2[3]"
   ]
  },
  {
   "cell_type": "code",
   "execution_count": 116,
   "id": "31a1994f-eede-477e-9f22-7b44a51c24d5",
   "metadata": {},
   "outputs": [
    {
     "data": {
      "text/plain": [
       "[10, 20, 30, 40, 50, 60]"
      ]
     },
     "execution_count": 116,
     "metadata": {},
     "output_type": "execute_result"
    }
   ],
   "source": [
    "d1.get('a') # Accessing item using get() method."
   ]
  },
  {
   "cell_type": "code",
   "execution_count": 152,
   "id": "c050c4bb-9f26-4cad-9aaf-f26891fdea64",
   "metadata": {},
   "outputs": [
    {
     "data": {
      "text/plain": [
       "{'Name': 'Raviteja Beri',\n",
       " 'Job': 'Aspiring AI Engineer',\n",
       " 'ID': 1989406,\n",
       " 'Location': 'Hyderabad'}"
      ]
     },
     "execution_count": 152,
     "metadata": {},
     "output_type": "execute_result"
    }
   ],
   "source": [
    "d3={'Name':'Raviteja Beri','Job':'Aspiring AI Engineer','ID':1989406,'Location':'Hyderabad'}\n",
    "d3"
   ]
  },
  {
   "cell_type": "code",
   "execution_count": 154,
   "id": "43ac1460-1a9c-4ed7-a4d7-3238f515fcc1",
   "metadata": {},
   "outputs": [
    {
     "data": {
      "text/plain": [
       "'Hyderabad'"
      ]
     },
     "execution_count": 154,
     "metadata": {},
     "output_type": "execute_result"
    }
   ],
   "source": [
    "d3['Location']"
   ]
  },
  {
   "cell_type": "code",
   "execution_count": 156,
   "id": "b17a3024-d49a-4636-ab78-2c144f3d8e65",
   "metadata": {},
   "outputs": [
    {
     "data": {
      "text/plain": [
       "1989406"
      ]
     },
     "execution_count": 156,
     "metadata": {},
     "output_type": "execute_result"
    }
   ],
   "source": [
    "d3.get('ID')"
   ]
  },
  {
   "cell_type": "code",
   "execution_count": 158,
   "id": "4fa54bbe-7722-47ae-b35c-76ba44c5531c",
   "metadata": {},
   "outputs": [],
   "source": [
    "d3['DOB'] = 2003 # Here i have added DOB in the dict."
   ]
  },
  {
   "cell_type": "code",
   "execution_count": 160,
   "id": "a2b534b5-ef22-416e-ae59-c832a611f3c5",
   "metadata": {},
   "outputs": [
    {
     "data": {
      "text/plain": [
       "{'Name': 'Raviteja Beri',\n",
       " 'Job': 'Aspiring AI Engineer',\n",
       " 'ID': 1989406,\n",
       " 'Location': 'Hyderabad',\n",
       " 'DOB': 2003}"
      ]
     },
     "execution_count": 160,
     "metadata": {},
     "output_type": "execute_result"
    }
   ],
   "source": [
    "d3"
   ]
  },
  {
   "cell_type": "code",
   "execution_count": 162,
   "id": "cd202a08-efb2-4d0d-b2c7-32d3f53b372e",
   "metadata": {},
   "outputs": [
    {
     "data": {
      "text/plain": [
       "{'Name': 'Raviteja Beri',\n",
       " 'Job': 'Aspiring AI Engineer',\n",
       " 'ID': 1989406,\n",
       " 'Location': 'Hyderabad',\n",
       " 'DOB': 2003}"
      ]
     },
     "execution_count": 162,
     "metadata": {},
     "output_type": "execute_result"
    }
   ],
   "source": [
    "d3"
   ]
  },
  {
   "cell_type": "code",
   "execution_count": 164,
   "id": "c881f373-bfde-4053-9262-b33833e5fea0",
   "metadata": {},
   "outputs": [
    {
     "data": {
      "text/plain": [
       "{'Name': 'Raviteja Beri',\n",
       " 'Job': 'Aspiring AI Engineer',\n",
       " 'ID': 1989406,\n",
       " 'Location': 'India',\n",
       " 'DOB': 2000}"
      ]
     },
     "execution_count": 164,
     "metadata": {},
     "output_type": "execute_result"
    }
   ],
   "source": [
    "d3['DOB']=2000 # Changing several values.\n",
    "d3['Location']='India'\n",
    "d3"
   ]
  },
  {
   "cell_type": "code",
   "execution_count": 166,
   "id": "e4edb7a8-4446-4a98-9b34-ea6e044bf674",
   "metadata": {},
   "outputs": [
    {
     "data": {
      "text/plain": [
       "{'Name': 'Raviteja Beri',\n",
       " 'Job': 'Aspiring AI Engineer',\n",
       " 'ID': 1989406,\n",
       " 'Location': 'India',\n",
       " 'DOB': 2001}"
      ]
     },
     "execution_count": 166,
     "metadata": {},
     "output_type": "execute_result"
    }
   ],
   "source": [
    "d2={'DOB': 2001} # Here ypu need to take another dict and assign value.\n",
    "d3.update(d2)    # otherwise It removes all values and returns as 'DOB':2001\n",
    "d3"
   ]
  },
  {
   "cell_type": "code",
   "execution_count": 168,
   "id": "d9f604ac-55c9-4662-8562-e7ea44b27c94",
   "metadata": {},
   "outputs": [
    {
     "data": {
      "text/plain": [
       "{'Name': 'Raviteja Beri',\n",
       " 'Job': 'Aspiring AI Engineer',\n",
       " 'ID': 1989406,\n",
       " 'Location': 'India',\n",
       " 'DOB': 2001}"
      ]
     },
     "execution_count": 168,
     "metadata": {},
     "output_type": "execute_result"
    }
   ],
   "source": [
    "d3"
   ]
  },
  {
   "cell_type": "code",
   "execution_count": 174,
   "id": "8e6b4e8a-c54a-4b8b-99fa-7674ee3e8e2c",
   "metadata": {},
   "outputs": [
    {
     "data": {
      "text/plain": [
       "{'Name': 'Raviteja Beri',\n",
       " 'Job': 'Aspiring AI Engineer',\n",
       " 'ID': 1989406,\n",
       " 'Location': 'India',\n",
       " 'DOB': 2001,\n",
       " 'Designation': 'Software Engineer'}"
      ]
     },
     "execution_count": 174,
     "metadata": {},
     "output_type": "execute_result"
    }
   ],
   "source": [
    "d3['Designation']='Software Engineer' # Adding items in the dictionary.\n",
    "d3"
   ]
  },
  {
   "cell_type": "code",
   "execution_count": 176,
   "id": "25680f4e-91d3-4fad-b569-6eda15deb37e",
   "metadata": {},
   "outputs": [
    {
     "data": {
      "text/plain": [
       "{'Name': 'Raviteja Beri',\n",
       " 'Job': 'Aspiring AI Engineer',\n",
       " 'Location': 'India',\n",
       " 'DOB': 2001,\n",
       " 'Designation': 'Software Engineer'}"
      ]
     },
     "execution_count": 176,
     "metadata": {},
     "output_type": "execute_result"
    }
   ],
   "source": [
    "del[d3['ID']] # removing item using del function.\n",
    "d3"
   ]
  },
  {
   "cell_type": "code",
   "execution_count": 178,
   "id": "5b50c80c-0128-40fa-abd1-4c2d6e4eef31",
   "metadata": {},
   "outputs": [
    {
     "data": {
      "text/plain": [
       "{}"
      ]
     },
     "execution_count": 178,
     "metadata": {},
     "output_type": "execute_result"
    }
   ],
   "source": [
    "d3.clear() # Delete all items of the dictionary using clear method.\n",
    "d3"
   ]
  },
  {
   "cell_type": "code",
   "execution_count": 180,
   "id": "bea866e0-fde7-4b4a-94f6-90c498132f86",
   "metadata": {},
   "outputs": [
    {
     "ename": "NameError",
     "evalue": "name 'd3' is not defined",
     "output_type": "error",
     "traceback": [
      "\u001b[1;31m---------------------------------------------------------------------------\u001b[0m",
      "\u001b[1;31mNameError\u001b[0m                                 Traceback (most recent call last)",
      "Cell \u001b[1;32mIn[180], line 2\u001b[0m\n\u001b[0;32m      1\u001b[0m \u001b[38;5;28;01mdel\u001b[39;00m d3\n\u001b[1;32m----> 2\u001b[0m d3\n",
      "\u001b[1;31mNameError\u001b[0m: name 'd3' is not defined"
     ]
    }
   ],
   "source": [
    "del d3 # Delete dictionary object. Hence, deleted.\n",
    "d3"
   ]
  },
  {
   "cell_type": "markdown",
   "id": "0c89b26a-b824-4128-b612-3e2dd57a35c7",
   "metadata": {},
   "source": [
    "### Copy dictionary"
   ]
  },
  {
   "cell_type": "code",
   "execution_count": 201,
   "id": "6b502430-5891-442d-b2ad-73b86f6b90cb",
   "metadata": {},
   "outputs": [
    {
     "data": {
      "text/plain": [
       "{'Name': 'Raviteja Beri',\n",
       " 'Job': 'Aspiring AI Engineer',\n",
       " 'ID': 1989406,\n",
       " 'Location': 'Hyderabad'}"
      ]
     },
     "execution_count": 201,
     "metadata": {},
     "output_type": "execute_result"
    }
   ],
   "source": [
    "d4={'Name':'Raviteja Beri','Job':'Aspiring AI Engineer','ID':1989406,'Location':'Hyderabad'}\n",
    "d4"
   ]
  },
  {
   "cell_type": "code",
   "execution_count": 203,
   "id": "008e9948-fdca-4abc-aee0-4f1a84d4122e",
   "metadata": {},
   "outputs": [
    {
     "data": {
      "text/plain": [
       "{'Name': 'Raviteja Beri',\n",
       " 'Job': 'Aspiring AI Engineer',\n",
       " 'ID': 1989406,\n",
       " 'Location': 'Hyderabad'}"
      ]
     },
     "execution_count": 203,
     "metadata": {},
     "output_type": "execute_result"
    }
   ],
   "source": [
    "d5=d4.copy() # Copying the items from on dictionary to other dictionary.\n",
    "d5"
   ]
  },
  {
   "cell_type": "code",
   "execution_count": 205,
   "id": "7f18f490-10df-4975-98bb-6c57fc24f454",
   "metadata": {},
   "outputs": [
    {
     "data": {
      "text/plain": [
       "(1971729213504, 1971729324736)"
      ]
     },
     "execution_count": 205,
     "metadata": {},
     "output_type": "execute_result"
    }
   ],
   "source": [
    "id(d4), id(d5) # Gives different address."
   ]
  },
  {
   "cell_type": "code",
   "execution_count": 207,
   "id": "3c76b4b2-500d-4c9a-a8e1-32518a1e64fd",
   "metadata": {},
   "outputs": [],
   "source": [
    "d6=d5.copy()"
   ]
  },
  {
   "cell_type": "code",
   "execution_count": 209,
   "id": "7ebd5300-7d7e-426b-8108-9b12d1a68f20",
   "metadata": {},
   "outputs": [
    {
     "data": {
      "text/plain": [
       "{'Name': 'Raviteja Beri',\n",
       " 'Job': 'Aspiring AI Engineer',\n",
       " 'ID': 1989406,\n",
       " 'Location': 'Hyderabad'}"
      ]
     },
     "execution_count": 209,
     "metadata": {},
     "output_type": "execute_result"
    }
   ],
   "source": [
    "d6"
   ]
  },
  {
   "cell_type": "code",
   "execution_count": 211,
   "id": "c91d49eb-8b6a-499e-8d71-c43c4f23a06f",
   "metadata": {},
   "outputs": [],
   "source": [
    "d6=d5"
   ]
  },
  {
   "cell_type": "code",
   "execution_count": 213,
   "id": "659e01f5-2fbc-4bf7-8f5b-11376500a43a",
   "metadata": {},
   "outputs": [
    {
     "data": {
      "text/plain": [
       "(1971729324736, 1971729324736)"
      ]
     },
     "execution_count": 213,
     "metadata": {},
     "output_type": "execute_result"
    }
   ],
   "source": [
    "id(d6), id(d5) # It consists same address becuase we have declared d6=d5 in the above section."
   ]
  },
  {
   "cell_type": "code",
   "execution_count": 215,
   "id": "08da9c91-919c-495b-b97c-b5dce73e253a",
   "metadata": {},
   "outputs": [
    {
     "data": {
      "text/plain": [
       "{'Name': 'Raviteja Beri',\n",
       " 'Job': 'Aspiring AI Engineer',\n",
       " 'ID': 1989406,\n",
       " 'Location': 'Hyderabad'}"
      ]
     },
     "execution_count": 215,
     "metadata": {},
     "output_type": "execute_result"
    }
   ],
   "source": [
    "d5"
   ]
  },
  {
   "cell_type": "code",
   "execution_count": 217,
   "id": "46ff0e89-c6eb-4684-a7c8-5f6a21893d14",
   "metadata": {},
   "outputs": [
    {
     "data": {
      "text/plain": [
       "{'Name': 'Raviteja Beri',\n",
       " 'Job': 'Aspiring AI Engineer',\n",
       " 'ID': 1989406,\n",
       " 'Location': 'India'}"
      ]
     },
     "execution_count": 217,
     "metadata": {},
     "output_type": "execute_result"
    }
   ],
   "source": [
    "d5['Location']='India'\n",
    "d5"
   ]
  },
  {
   "cell_type": "code",
   "execution_count": 219,
   "id": "57da208a-0f57-4a25-ae81-e2fb47b925f4",
   "metadata": {},
   "outputs": [
    {
     "data": {
      "text/plain": [
       "{'Name': 'Raviteja Beri',\n",
       " 'Job': 'Aspiring AI Engineer',\n",
       " 'ID': 1989406,\n",
       " 'Location': 'India'}"
      ]
     },
     "execution_count": 219,
     "metadata": {},
     "output_type": "execute_result"
    }
   ],
   "source": [
    "d6 # Here d6 also changes because we have declared d5 and d6 are eqaul. So automatically changed."
   ]
  },
  {
   "cell_type": "code",
   "execution_count": 221,
   "id": "524feef5-f755-43b2-af2c-83e9ef58a036",
   "metadata": {},
   "outputs": [
    {
     "data": {
      "text/plain": [
       "(1971729324736, 1971729324736)"
      ]
     },
     "execution_count": 221,
     "metadata": {},
     "output_type": "execute_result"
    }
   ],
   "source": [
    "id(d5), id(d6) # same id's"
   ]
  },
  {
   "cell_type": "code",
   "execution_count": 223,
   "id": "a404fb76-6a33-45f3-818a-ac2608c79931",
   "metadata": {},
   "outputs": [
    {
     "data": {
      "text/plain": [
       "{'Name': 'Raviteja Beri',\n",
       " 'Job': 'Aspiring AI Engineer',\n",
       " 'ID': 1989406,\n",
       " 'Location': 'Hyderabad'}"
      ]
     },
     "execution_count": 223,
     "metadata": {},
     "output_type": "execute_result"
    }
   ],
   "source": [
    "d4 # Copy of list won't be affected, if we made changes in the original."
   ]
  },
  {
   "cell_type": "code",
   "execution_count": 225,
   "id": "41fae5d6-0738-40dd-9dcd-44347f65faed",
   "metadata": {},
   "outputs": [
    {
     "data": {
      "text/plain": [
       "1971729213504"
      ]
     },
     "execution_count": 225,
     "metadata": {},
     "output_type": "execute_result"
    }
   ],
   "source": [
    "id(d4)"
   ]
  },
  {
   "cell_type": "markdown",
   "id": "7bd72c91-1066-40ef-9d76-92563f1b7f1a",
   "metadata": {},
   "source": [
    "### Loop Through dictionary"
   ]
  },
  {
   "cell_type": "code",
   "execution_count": 232,
   "id": "145659f7-b3e8-40f8-b157-019262ab9a30",
   "metadata": {},
   "outputs": [
    {
     "data": {
      "text/plain": [
       "{'Name': 'Raviteja Beri',\n",
       " 'Job': 'Aspiring AI Engineer',\n",
       " 'ID': 1989406,\n",
       " 'Location': 'Hyderabad'}"
      ]
     },
     "execution_count": 232,
     "metadata": {},
     "output_type": "execute_result"
    }
   ],
   "source": [
    "d7={'Name':'Raviteja Beri','Job':'Aspiring AI Engineer','ID':1989406,'Location':'Hyderabad'}\n",
    "d7"
   ]
  },
  {
   "cell_type": "code",
   "execution_count": 242,
   "id": "49ad21a5-fff0-400a-a640-fbc6375d250e",
   "metadata": {},
   "outputs": [
    {
     "name": "stdout",
     "output_type": "stream",
     "text": [
      "Name : Raviteja Beri\n",
      "Job : Aspiring AI Engineer\n",
      "ID : 1989406\n",
      "Location : Hyderabad\n"
     ]
    }
   ],
   "source": [
    "for i in d7:\n",
    "    print(i, ':',d7[i]) # Because we need to Key & value pair"
   ]
  },
  {
   "cell_type": "code",
   "execution_count": 244,
   "id": "fd4efd7b-3ca2-4a7c-8d1e-7e310fff6819",
   "metadata": {},
   "outputs": [
    {
     "name": "stdout",
     "output_type": "stream",
     "text": [
      "(0, 'Name')\n",
      "(1, 'Job')\n",
      "(2, 'ID')\n",
      "(3, 'Location')\n"
     ]
    }
   ],
   "source": [
    "for i in enumerate(d7):\n",
    "    print(i)\n"
   ]
  },
  {
   "cell_type": "code",
   "execution_count": 294,
   "id": "a0c4776f-8292-4021-aaf6-800bcaa5d61a",
   "metadata": {},
   "outputs": [
    {
     "name": "stdout",
     "output_type": "stream",
     "text": [
      "0 : Name : Raviteja Beri\n",
      "1 : Job : Aspiring AI Engineer\n",
      "2 : ID : 1989406\n",
      "3 : Location : Hyderabad\n"
     ]
    }
   ],
   "source": [
    "for i,key in enumerate(d7):\n",
    "    value=d7[key]\n",
    "    print(i, ':',key, ':', value)"
   ]
  },
  {
   "cell_type": "code",
   "execution_count": 300,
   "id": "23d31ac5-8a56-4e36-a485-d57192e42e4f",
   "metadata": {},
   "outputs": [
    {
     "name": "stdout",
     "output_type": "stream",
     "text": [
      "Raviteja Beri\n",
      "Aspiring AI Engineer\n",
      "1989406\n",
      "Hyderabad\n"
     ]
    }
   ],
   "source": [
    "for i in d7: # it gives the values\n",
    "    print(d7[i])"
   ]
  },
  {
   "cell_type": "markdown",
   "id": "97166551-b014-4808-9d2d-68e0130a5570",
   "metadata": {},
   "source": [
    "### Dictionary membership"
   ]
  },
  {
   "cell_type": "code",
   "execution_count": 303,
   "id": "e6bf4bab-aeb6-455a-bd5f-4c19c724feaa",
   "metadata": {},
   "outputs": [
    {
     "data": {
      "text/plain": [
       "{'Name': 'Raviteja Beri',\n",
       " 'Job': 'Aspiring AI Engineer',\n",
       " 'ID': 1989406,\n",
       " 'Location': 'Hyderabad'}"
      ]
     },
     "execution_count": 303,
     "metadata": {},
     "output_type": "execute_result"
    }
   ],
   "source": [
    "d7"
   ]
  },
  {
   "cell_type": "code",
   "execution_count": 305,
   "id": "76e0d075-c448-4df9-b18f-7d69a9640808",
   "metadata": {},
   "outputs": [
    {
     "data": {
      "text/plain": [
       "False"
      ]
     },
     "execution_count": 305,
     "metadata": {},
     "output_type": "execute_result"
    }
   ],
   "source": [
    "'iD' in d7"
   ]
  },
  {
   "cell_type": "code",
   "execution_count": 307,
   "id": "c41af434-9d25-4e75-96a4-8875708c5ef7",
   "metadata": {},
   "outputs": [
    {
     "data": {
      "text/plain": [
       "True"
      ]
     },
     "execution_count": 307,
     "metadata": {},
     "output_type": "execute_result"
    }
   ],
   "source": [
    "'ID'in d7"
   ]
  },
  {
   "cell_type": "markdown",
   "id": "d5e8699d-3ec4-49a7-af27-adc2a2c15d88",
   "metadata": {},
   "source": [
    "### All / Any"
   ]
  },
  {
   "cell_type": "code",
   "execution_count": 314,
   "id": "6ce4b620-d9fc-4f6d-8744-c49db66fde11",
   "metadata": {},
   "outputs": [
    {
     "data": {
      "text/plain": [
       "True"
      ]
     },
     "execution_count": 314,
     "metadata": {},
     "output_type": "execute_result"
    }
   ],
   "source": [
    "all(d7) # It returns false if it consists value '0' in it"
   ]
  },
  {
   "cell_type": "code",
   "execution_count": null,
   "id": "27ef9e54-51b3-4fba-b361-1ad4e9435ad8",
   "metadata": {},
   "outputs": [],
   "source": []
  }
 ],
 "metadata": {
  "kernelspec": {
   "display_name": "Python [conda env:base] *",
   "language": "python",
   "name": "conda-base-py"
  },
  "language_info": {
   "codemirror_mode": {
    "name": "ipython",
    "version": 3
   },
   "file_extension": ".py",
   "mimetype": "text/x-python",
   "name": "python",
   "nbconvert_exporter": "python",
   "pygments_lexer": "ipython3",
   "version": "3.12.7"
  }
 },
 "nbformat": 4,
 "nbformat_minor": 5
}
