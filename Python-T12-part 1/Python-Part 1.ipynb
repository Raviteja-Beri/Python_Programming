{
 "cells": [
  {
   "cell_type": "markdown",
   "id": "ee2e5a85-5a49-4b17-a69c-1c27429457a2",
   "metadata": {},
   "source": [
    "# Logical Operators\n",
    "### 1. AND\n",
    "### 2. OR\n",
    "### 3. NOT"
   ]
  },
  {
   "cell_type": "code",
   "execution_count": 3,
   "id": "b6c92eff-e692-4354-9adb-3c1c64cc8db8",
   "metadata": {},
   "outputs": [],
   "source": [
    "a=5\n",
    "b=6\n"
   ]
  },
  {
   "cell_type": "code",
   "execution_count": 5,
   "id": "71228e8a-dbaa-4f7b-a94e-64ed3ef3863b",
   "metadata": {},
   "outputs": [
    {
     "data": {
      "text/plain": [
       "True"
      ]
     },
     "execution_count": 5,
     "metadata": {},
     "output_type": "execute_result"
    }
   ],
   "source": [
    "a<b and b>a # AND = Returns \"true\" only if both operands are \"true.\""
   ]
  },
  {
   "cell_type": "code",
   "execution_count": 7,
   "id": "33122c44-77e3-4e4b-aa1d-0ed463a3a350",
   "metadata": {},
   "outputs": [
    {
     "data": {
      "text/plain": [
       "False"
      ]
     },
     "execution_count": 7,
     "metadata": {},
     "output_type": "execute_result"
    }
   ],
   "source": [
    "a>b and b<a"
   ]
  },
  {
   "cell_type": "code",
   "execution_count": 9,
   "id": "074a7e00-24a1-4a0e-bbb2-f7eecfdbb404",
   "metadata": {},
   "outputs": [
    {
     "name": "stdout",
     "output_type": "stream",
     "text": [
      "5\n",
      "6\n"
     ]
    }
   ],
   "source": [
    "print(a)\n",
    "print(b)"
   ]
  },
  {
   "cell_type": "code",
   "execution_count": 13,
   "id": "a43ec923-b45d-489a-b91f-46316d657b4c",
   "metadata": {},
   "outputs": [
    {
     "data": {
      "text/plain": [
       "True"
      ]
     },
     "execution_count": 13,
     "metadata": {},
     "output_type": "execute_result"
    }
   ],
   "source": [
    "a>b or b>a # OR = Returns \"true\" if at least one of the operands is \"true.\""
   ]
  },
  {
   "cell_type": "code",
   "execution_count": 15,
   "id": "b08761cc-e4be-4121-a2a4-7301f6d1efe0",
   "metadata": {},
   "outputs": [
    {
     "data": {
      "text/plain": [
       "False"
      ]
     },
     "execution_count": 15,
     "metadata": {},
     "output_type": "execute_result"
    }
   ],
   "source": [
    "a>b or b<a # Here both of them are false. so it gives \"False\""
   ]
  },
  {
   "cell_type": "code",
   "execution_count": 23,
   "id": "e1593c88-056d-4548-876f-bab89bf1fbb2",
   "metadata": {},
   "outputs": [
    {
     "data": {
      "text/plain": [
       "True"
      ]
     },
     "execution_count": 23,
     "metadata": {},
     "output_type": "execute_result"
    }
   ],
   "source": [
    "x = True\n",
    "x"
   ]
  },
  {
   "cell_type": "code",
   "execution_count": 25,
   "id": "55c32b38-af69-4bc9-af49-9cab8aee0dc1",
   "metadata": {},
   "outputs": [
    {
     "data": {
      "text/plain": [
       "False"
      ]
     },
     "execution_count": 25,
     "metadata": {},
     "output_type": "execute_result"
    }
   ],
   "source": [
    "not x # NOT = IT negates the operand, meaning it returns the opposite value.\n",
    "      # Here it is true but it gives as a false. "
   ]
  },
  {
   "cell_type": "code",
   "execution_count": 29,
   "id": "063d4af5-0743-48c7-ab0c-402639b37d8c",
   "metadata": {},
   "outputs": [
    {
     "data": {
      "text/plain": [
       "False"
      ]
     },
     "execution_count": 29,
     "metadata": {},
     "output_type": "execute_result"
    }
   ],
   "source": [
    "x = False # Here it is false but it gives as a true\n",
    "x . "
   ]
  },
  {
   "cell_type": "code",
   "execution_count": 31,
   "id": "621c23e3-7279-4c49-86f0-6b6431a688a5",
   "metadata": {},
   "outputs": [
    {
     "data": {
      "text/plain": [
       "True"
      ]
     },
     "execution_count": 31,
     "metadata": {},
     "output_type": "execute_result"
    }
   ],
   "source": [
    "not x"
   ]
  },
  {
   "cell_type": "markdown",
   "id": "2926f28f-4e80-4a51-8414-3c4149323443",
   "metadata": {},
   "source": [
    "# Number System \n",
    "### 1. Binary\n",
    "### 2. Octal\n",
    "### 3. Hexa Decimal"
   ]
  },
  {
   "cell_type": "code",
   "execution_count": null,
   "id": "8989db92-720f-4c19-94b6-3090ce46c9b4",
   "metadata": {},
   "outputs": [],
   "source": [
    "# Binary() = The base value is (0-1) i.e., \"2\"\n",
    "# Octal() = The base value is (0-7) i.e., \"8\"\n",
    "# Hexa Decimal() = The base value is (0-9 and a-f) i.e., \"16\". Here a=10, b=12 etc\n",
    "# To check the Ip address of your device, open CMD and Type \"ipconfig\""
   ]
  },
  {
   "cell_type": "markdown",
   "id": "d9b76b27-0080-4145-a45f-7cd0b5b5ba94",
   "metadata": {},
   "source": [
    "### 1. Binary()"
   ]
  },
  {
   "cell_type": "code",
   "execution_count": 36,
   "id": "87db154d-883a-4ed9-a813-e4949a38fba0",
   "metadata": {},
   "outputs": [
    {
     "data": {
      "text/plain": [
       "'0b1010'"
      ]
     },
     "execution_count": 36,
     "metadata": {},
     "output_type": "execute_result"
    }
   ],
   "source": [
    "bin(10) # The output is generated with the indication od binary i.e., \"0b\""
   ]
  },
  {
   "cell_type": "code",
   "execution_count": 40,
   "id": "5d6b5606-c766-4aa7-bbaa-3cdd8da37d84",
   "metadata": {},
   "outputs": [
    {
     "data": {
      "text/plain": [
       "'0b10100'"
      ]
     },
     "execution_count": 40,
     "metadata": {},
     "output_type": "execute_result"
    }
   ],
   "source": [
    "bin(20) # Here it converts \"20\" into Binary format. \n",
    "        # there are 2 methods to understand this in practical i.e.,\n",
    "        # 1. LCM\n",
    "        # 2. Use \"64 32 16 8 4 2 1\" format\n",
    "        # this is to convert integer into a binary number."
   ]
  },
  {
   "cell_type": "code",
   "execution_count": 42,
   "id": "7f70b9f7-6f02-491c-90d4-a020ff8fb77b",
   "metadata": {},
   "outputs": [
    {
     "data": {
      "text/plain": [
       "6"
      ]
     },
     "execution_count": 42,
     "metadata": {},
     "output_type": "execute_result"
    }
   ],
   "source": [
    "int(0b110) # Use this method to convert binary number into integer number"
   ]
  },
  {
   "cell_type": "code",
   "execution_count": 44,
   "id": "2551e3ce-c96d-4b32-b5ae-c8f911b2abed",
   "metadata": {},
   "outputs": [
    {
     "data": {
      "text/plain": [
       "7"
      ]
     },
     "execution_count": 44,
     "metadata": {},
     "output_type": "execute_result"
    }
   ],
   "source": [
    "int(0b111) # The other method to achieve this is, 1 x 2**0 + 1 x 2**1 + 1 x 2**2 = 7\n",
    "           # This is binary so we take \"2\" and from left you need to add powers from 0,1,2....\n",
    "           # Always prefer \"8 4 2 1\" It is also called as BCD code. It is very easy."
   ]
  },
  {
   "cell_type": "markdown",
   "id": "21e73d53-9545-4c68-b473-af9d50810a5e",
   "metadata": {},
   "source": [
    "### 2. Ocatl()"
   ]
  },
  {
   "cell_type": "code",
   "execution_count": 47,
   "id": "2a09fd37-c6ba-47ae-87bd-bc2c29affdbd",
   "metadata": {},
   "outputs": [
    {
     "data": {
      "text/plain": [
       "73"
      ]
     },
     "execution_count": 47,
     "metadata": {},
     "output_type": "execute_result"
    }
   ],
   "source": [
    "int(0o111) # 1 x 8**0  + 1 x 8**1 + 1 x 8**2"
   ]
  },
  {
   "cell_type": "code",
   "execution_count": 51,
   "id": "f73c054a-111a-4945-b5bf-bb47f1ccfc89",
   "metadata": {},
   "outputs": [
    {
     "data": {
      "text/plain": [
       "'0o12'"
      ]
     },
     "execution_count": 51,
     "metadata": {},
     "output_type": "execute_result"
    }
   ],
   "source": [
    "oct(10)"
   ]
  },
  {
   "cell_type": "code",
   "execution_count": 55,
   "id": "56b7681e-f4f6-4446-a6b7-f26cba9f4034",
   "metadata": {},
   "outputs": [
    {
     "data": {
      "text/plain": [
       "8"
      ]
     },
     "execution_count": 55,
     "metadata": {},
     "output_type": "execute_result"
    }
   ],
   "source": [
    "0o10"
   ]
  },
  {
   "cell_type": "markdown",
   "id": "6128c64c-c8ca-4b5e-907c-627f54780e55",
   "metadata": {},
   "source": [
    "### 3. Hexa Decimal()"
   ]
  },
  {
   "cell_type": "code",
   "execution_count": 58,
   "id": "6f1cfb62-58b6-4415-ab38-a297bbe7ce37",
   "metadata": {},
   "outputs": [
    {
     "data": {
      "text/plain": [
       "'0x1e'"
      ]
     },
     "execution_count": 58,
     "metadata": {},
     "output_type": "execute_result"
    }
   ],
   "source": [
    "hex(30) # E = 14"
   ]
  },
  {
   "cell_type": "markdown",
   "id": "82362af8-cef8-43e1-8555-57921001bdc2",
   "metadata": {},
   "source": [
    "# Swapping"
   ]
  },
  {
   "cell_type": "code",
   "execution_count": 61,
   "id": "37ff23f6-4533-4dda-8ee7-0d51a4e7bf0c",
   "metadata": {},
   "outputs": [],
   "source": [
    "a=5\n",
    "b=6"
   ]
  },
  {
   "cell_type": "code",
   "execution_count": 63,
   "id": "2aec7353-e5dd-4198-96bd-9db73a3a5530",
   "metadata": {},
   "outputs": [],
   "source": [
    "a,b=b,a # 1. Best and easy method. without taking 3rd variable"
   ]
  },
  {
   "cell_type": "code",
   "execution_count": 65,
   "id": "8898d3f8-1cea-47a8-80b0-eb684c3dd3c9",
   "metadata": {},
   "outputs": [
    {
     "name": "stdout",
     "output_type": "stream",
     "text": [
      "6\n",
      "5\n"
     ]
    }
   ],
   "source": [
    "print(a)\n",
    "print(b)"
   ]
  },
  {
   "cell_type": "code",
   "execution_count": 67,
   "id": "1da1b0d1-7bbd-4a06-a82f-30d71510367c",
   "metadata": {},
   "outputs": [],
   "source": [
    "temp=a # 2nd method by taking 3rd variable as \"temp\"\n",
    "a=b\n",
    "b=temp"
   ]
  },
  {
   "cell_type": "code",
   "execution_count": 69,
   "id": "f71d1bc6-1623-4d33-b288-f795b88769a7",
   "metadata": {},
   "outputs": [
    {
     "name": "stdout",
     "output_type": "stream",
     "text": [
      "5\n",
      "6\n"
     ]
    }
   ],
   "source": [
    "print(a)\n",
    "print(b)"
   ]
  },
  {
   "cell_type": "code",
   "execution_count": 71,
   "id": "0fd2c420-b25e-4d77-be18-6c5969f81381",
   "metadata": {},
   "outputs": [],
   "source": [
    "a1=7\n",
    "b1=8"
   ]
  },
  {
   "cell_type": "code",
   "execution_count": 73,
   "id": "623ac268-b29b-4f30-a1f0-4fa7fb00c4e9",
   "metadata": {},
   "outputs": [],
   "source": [
    "a1 = a1 + b1 # 3rd method and also called swapping formulae\n",
    "b1 = a1 - b1\n",
    "a1 = a1 - b1"
   ]
  },
  {
   "cell_type": "code",
   "execution_count": 75,
   "id": "8f71efe7-4e50-4095-b324-fb314fd70595",
   "metadata": {},
   "outputs": [
    {
     "name": "stdout",
     "output_type": "stream",
     "text": [
      "8\n",
      "7\n"
     ]
    }
   ],
   "source": [
    "print(a1)\n",
    "print(b1)"
   ]
  },
  {
   "cell_type": "code",
   "execution_count": 77,
   "id": "a44e2c31-98ad-4972-8437-59ad20137d6f",
   "metadata": {},
   "outputs": [],
   "source": [
    "a2=10\n",
    "b2=20"
   ]
  },
  {
   "cell_type": "code",
   "execution_count": 79,
   "id": "de75ca07-1183-412e-9982-c7b5cc3848bc",
   "metadata": {},
   "outputs": [],
   "source": [
    "a2 = a2 ^ b2 # 4th method\n",
    "b2 = a2 ^ b2\n",
    "a2 = a2 ^ b2"
   ]
  },
  {
   "cell_type": "code",
   "execution_count": 81,
   "id": "48e3ec92-1e11-41e7-b8ae-3766ee23dc76",
   "metadata": {},
   "outputs": [
    {
     "name": "stdout",
     "output_type": "stream",
     "text": [
      "20\n",
      "10\n"
     ]
    }
   ],
   "source": [
    "print(a2)\n",
    "print(b2)"
   ]
  },
  {
   "cell_type": "markdown",
   "id": "e3d0be10-a7a5-4be9-9689-c9b3cd5088e6",
   "metadata": {},
   "source": [
    "# Bitwise Operators\n",
    "### 1. NOT (~)\n",
    "### 2. AND (&)\n",
    "### 3. OR (|)\n",
    "### 4. XOR (^)\n",
    "### 5. left Shift (<<)\n",
    "### 6. Right Shift (>>)"
   ]
  },
  {
   "cell_type": "markdown",
   "id": "cc0b92b1-b6e6-4ed8-a2ee-ab483d0eda84",
   "metadata": {},
   "source": [
    "### 1. NOT (~)= The bitwise NOT operator inverts the bits of an integer. It changes all 0s to 1s and all 1s to 0s."
   ]
  },
  {
   "cell_type": "code",
   "execution_count": 3,
   "id": "40830307-2a72-4705-92a6-800647caa61a",
   "metadata": {},
   "outputs": [
    {
     "data": {
      "text/plain": [
       "-33"
      ]
     },
     "execution_count": 3,
     "metadata": {},
     "output_type": "execute_result"
    }
   ],
   "source": [
    "~32 # \"~\" It is called as bitwise NOT operator inverts the bits of an integer. It changes all 0s to 1s and all 1s to 0s.\n",
    "    # It reverses the binary number and gives the output."
   ]
  },
  {
   "cell_type": "code",
   "execution_count": 5,
   "id": "2b7d8599-1620-437b-90aa-c18088ee5b13",
   "metadata": {},
   "outputs": [
    {
     "data": {
      "text/plain": [
       "-11"
      ]
     },
     "execution_count": 5,
     "metadata": {},
     "output_type": "execute_result"
    }
   ],
   "source": [
    "~10 # 10 = 1010 and Applies the bitwise NOT (~) gives 0101, so 0101 = 11."
   ]
  },
  {
   "cell_type": "code",
   "execution_count": 7,
   "id": "5fb48e79-244a-4420-92bf-6f48f5656d28",
   "metadata": {},
   "outputs": [
    {
     "data": {
      "text/plain": [
       "-5"
      ]
     },
     "execution_count": 7,
     "metadata": {},
     "output_type": "execute_result"
    }
   ],
   "source": [
    "~4 # \"~\" It is called as compliment."
   ]
  },
  {
   "cell_type": "markdown",
   "id": "4a61606d-27b5-4395-b55a-8074c7c0075c",
   "metadata": {},
   "source": [
    "### 2. AND (&) = Performs a bit-by-bit AND operation."
   ]
  },
  {
   "cell_type": "code",
   "execution_count": 10,
   "id": "be1d7b95-1e48-476f-a773-0a7d60fccdde",
   "metadata": {},
   "outputs": [
    {
     "data": {
      "text/plain": [
       "8"
      ]
     },
     "execution_count": 10,
     "metadata": {},
     "output_type": "execute_result"
    }
   ],
   "source": [
    "10 & 12 # 10 = 1010 # It gives \"1\" only if both corresponding bits are \"1\"; otherwise, it's 0.\n",
    "        # 12 = 1100\n",
    "       # o/p = 1000 =8"
   ]
  },
  {
   "cell_type": "code",
   "execution_count": 12,
   "id": "04b35167-3a7e-48fe-824c-6aeb7c0ea85c",
   "metadata": {},
   "outputs": [
    {
     "data": {
      "text/plain": [
       "4"
      ]
     },
     "execution_count": 12,
     "metadata": {},
     "output_type": "execute_result"
    }
   ],
   "source": [
    "4 & 6 # 4 = 0100\n",
    "      # 6 = 0110\n",
    "    # o/p = 0100 = 4"
   ]
  },
  {
   "cell_type": "markdown",
   "id": "3d895016-016b-409d-93c8-ebbe2135fe0e",
   "metadata": {},
   "source": [
    "### 3. OR (|) = Performs a bit-by-bit OR operation."
   ]
  },
  {
   "cell_type": "code",
   "execution_count": 16,
   "id": "265590a5-b23e-413b-b139-1662e7beeda9",
   "metadata": {},
   "outputs": [
    {
     "data": {
      "text/plain": [
       "6"
      ]
     },
     "execution_count": 16,
     "metadata": {},
     "output_type": "execute_result"
    }
   ],
   "source": [
    "2 | 6 # 2 = 0010 # It gives \"1\" if at least one of the corresponding bits is \"1\"; it's \"0\" only if both are \"0\".\n",
    "      # 6 = 0110\n",
    "    # o/p = 0110 = 6"
   ]
  },
  {
   "cell_type": "code",
   "execution_count": 18,
   "id": "da5c77a5-4005-47ce-931f-4b1fcf0e4026",
   "metadata": {},
   "outputs": [
    {
     "data": {
      "text/plain": [
       "1"
      ]
     },
     "execution_count": 18,
     "metadata": {},
     "output_type": "execute_result"
    }
   ],
   "source": [
    "1 | 0"
   ]
  },
  {
   "cell_type": "code",
   "execution_count": 20,
   "id": "de5f79f0-b282-470e-ba6f-c29b8e09dc52",
   "metadata": {},
   "outputs": [
    {
     "data": {
      "text/plain": [
       "30"
      ]
     },
     "execution_count": 20,
     "metadata": {},
     "output_type": "execute_result"
    }
   ],
   "source": [
    "10 | 20"
   ]
  },
  {
   "cell_type": "markdown",
   "id": "018dce01-662b-4dc6-8a19-96692d673164",
   "metadata": {},
   "source": [
    "### 4. XOR(^) = Performs a bit-by-bit exclusive OR (XOR) operation."
   ]
  },
  {
   "cell_type": "code",
   "execution_count": 25,
   "id": "1d3d6523-56c4-4c85-bbde-7e40584a5e6c",
   "metadata": {},
   "outputs": [
    {
     "data": {
      "text/plain": [
       "12"
      ]
     },
     "execution_count": 25,
     "metadata": {},
     "output_type": "execute_result"
    }
   ],
   "source": [
    "4^8 # 4 = 0100 # It gives \"1\" if the corresponding bits are different; it's 0 if they are the same.\n",
    "   #  8 = 1000\n",
    "  # o/p = 1100 = 12"
   ]
  },
  {
   "cell_type": "code",
   "execution_count": 27,
   "id": "170edc8c-9c62-454f-98ac-37d2408c0d4d",
   "metadata": {},
   "outputs": [
    {
     "data": {
      "text/plain": [
       "5"
      ]
     },
     "execution_count": 27,
     "metadata": {},
     "output_type": "execute_result"
    }
   ],
   "source": [
    "10^15 # 10 = 1010 # It is purely opposite to the OR operation.\n",
    "     #  15 = 1111\n",
    "     # o/p = 0101 = 5"
   ]
  },
  {
   "cell_type": "markdown",
   "id": "935d49d6-1bbc-4ecf-8831-123458063614",
   "metadata": {},
   "source": [
    "### 5. Leftshift (<<) = Shifts the bits of an integer to the left by a specified number of positions."
   ]
  },
  {
   "cell_type": "code",
   "execution_count": 38,
   "id": "5039e852-3e47-440d-a223-859ec84ea56e",
   "metadata": {},
   "outputs": [
    {
     "data": {
      "text/plain": [
       "40"
      ]
     },
     "execution_count": 38,
     "metadata": {},
     "output_type": "execute_result"
    }
   ],
   "source": [
    "10<<2 # 10 = 1010. Now, we have given \"2\". so it adds two zeros at the last.\n",
    "      # then it becomes \"101000\" = 40"
   ]
  },
  {
   "cell_type": "code",
   "execution_count": 42,
   "id": "4f6b1e73-86d9-47da-8403-cab666ec9dde",
   "metadata": {},
   "outputs": [
    {
     "data": {
      "text/plain": [
       "20"
      ]
     },
     "execution_count": 42,
     "metadata": {},
     "output_type": "execute_result"
    }
   ],
   "source": [
    "5<<2 # It depends on how many values you want to add."
   ]
  },
  {
   "cell_type": "markdown",
   "id": "7ef0c725-c746-438e-af0b-8a1000068a56",
   "metadata": {},
   "source": [
    "### 6. Rightshift (>>) = Shifts the bits of an integer to the right by a specified number of positions."
   ]
  },
  {
   "cell_type": "code",
   "execution_count": 49,
   "id": "ef6f3c9d-5443-4030-b7d9-2b42c2f14ed6",
   "metadata": {},
   "outputs": [
    {
     "data": {
      "text/plain": [
       "2"
      ]
     },
     "execution_count": 49,
     "metadata": {},
     "output_type": "execute_result"
    }
   ],
   "source": [
    "8>>2 # 4 = \"1000\" Now, we have given \"2\". so it removes two zeros at the last.\n",
    "    # now it has only \"10\" . the answer is \"2\" "
   ]
  },
  {
   "cell_type": "code",
   "execution_count": 53,
   "id": "a4bff5b8-954f-4597-b354-7d4a549cbc60",
   "metadata": {},
   "outputs": [
    {
     "data": {
      "text/plain": [
       "2"
      ]
     },
     "execution_count": 53,
     "metadata": {},
     "output_type": "execute_result"
    }
   ],
   "source": [
    "20>>3 # 20 = 10100\n",
    "     #  it removes \"100\" then the output is \"2\""
   ]
  },
  {
   "cell_type": "markdown",
   "id": "1c4f7beb-22b6-4a0f-bd5a-09dfbe489af2",
   "metadata": {},
   "source": [
    "# Math Module"
   ]
  },
  {
   "cell_type": "code",
   "execution_count": null,
   "id": "87d4e253-4829-44ff-8cad-470edabc792d",
   "metadata": {},
   "outputs": [],
   "source": [
    "# You need to use \"import math\" otherwise python won't recognize the math functions."
   ]
  },
  {
   "cell_type": "code",
   "execution_count": 1,
   "id": "3b17ae32-e258-4fad-8182-5a24af114ad9",
   "metadata": {},
   "outputs": [],
   "source": [
    "import math # Math is a module"
   ]
  },
  {
   "cell_type": "code",
   "execution_count": 9,
   "id": "4ef9c252-a95a-4295-8d27-5015a09567cc",
   "metadata": {},
   "outputs": [
    {
     "ename": "NameError",
     "evalue": "name 'sqrt' is not defined",
     "output_type": "error",
     "traceback": [
      "\u001b[1;31m---------------------------------------------------------------------------\u001b[0m",
      "\u001b[1;31mNameError\u001b[0m                                 Traceback (most recent call last)",
      "Cell \u001b[1;32mIn[9], line 1\u001b[0m\n\u001b[1;32m----> 1\u001b[0m x \u001b[38;5;241m=\u001b[39m sqrt(\u001b[38;5;241m25\u001b[39m)\n\u001b[0;32m      2\u001b[0m x\n",
      "\u001b[1;31mNameError\u001b[0m: name 'sqrt' is not defined"
     ]
    }
   ],
   "source": [
    "x = sqrt(25) # we didn't give \"math\" function. so it won't recognize.\n",
    "x"
   ]
  },
  {
   "cell_type": "code",
   "execution_count": 11,
   "id": "3b2b589e-740b-4db7-979b-a1c5a5ef3427",
   "metadata": {},
   "outputs": [
    {
     "data": {
      "text/plain": [
       "5.0"
      ]
     },
     "execution_count": 11,
     "metadata": {},
     "output_type": "execute_result"
    }
   ],
   "source": [
    "x = math.sqrt(25) # By default it gives float value.\n",
    "x"
   ]
  },
  {
   "cell_type": "code",
   "execution_count": 13,
   "id": "c761f2d6-2730-4e9b-97c6-6f3840ae3384",
   "metadata": {},
   "outputs": [
    {
     "data": {
      "text/plain": [
       "3.0"
      ]
     },
     "execution_count": 13,
     "metadata": {},
     "output_type": "execute_result"
    }
   ],
   "source": [
    "x1 = math.sqrt(9)\n",
    "x1"
   ]
  },
  {
   "cell_type": "code",
   "execution_count": 43,
   "id": "4d227285-f619-42ab-8619-ca15c4cfba24",
   "metadata": {},
   "outputs": [
    {
     "data": {
      "text/plain": [
       "9.0"
      ]
     },
     "execution_count": 43,
     "metadata": {},
     "output_type": "execute_result"
    }
   ],
   "source": [
    "import math as m # you can simply import math function and continue with \"m\"\n",
    "m.sqrt(81)"
   ]
  },
  {
   "cell_type": "code",
   "execution_count": 49,
   "id": "40f933d2-efdc-4581-af76-ad95e82308ec",
   "metadata": {},
   "outputs": [
    {
     "data": {
      "text/plain": [
       "8.0"
      ]
     },
     "execution_count": 49,
     "metadata": {},
     "output_type": "execute_result"
    }
   ],
   "source": [
    "from math import pow # you can also write like this using \"from\" function.\n",
    "pow(2,3)"
   ]
  },
  {
   "cell_type": "code",
   "execution_count": null,
   "id": "94cb9888-38c7-469a-96c4-25e94af7cf9a",
   "metadata": {},
   "outputs": [],
   "source": [
    "from math import * # instead writing sqrt, pow etc function. we can simply assign all math functions using \"*\" "
   ]
  },
  {
   "cell_type": "code",
   "execution_count": 51,
   "id": "07ebe4ad-0490-493d-82b9-e536b55a115f",
   "metadata": {},
   "outputs": [
    {
     "data": {
      "text/plain": [
       "8"
      ]
     },
     "execution_count": 51,
     "metadata": {},
     "output_type": "execute_result"
    }
   ],
   "source": [
    "round(pow(2,3)) # To return a floating-point number that is a rounded version of the specified number.\n",
    "                # Simply it gives int values of the output."
   ]
  },
  {
   "cell_type": "code",
   "execution_count": 55,
   "id": "dfa39f62-a657-4f57-a8e4-30b8b3977f04",
   "metadata": {},
   "outputs": [
    {
     "data": {
      "text/plain": [
       "64.0"
      ]
     },
     "execution_count": 55,
     "metadata": {},
     "output_type": "execute_result"
    }
   ],
   "source": [
    "pow(4,3)"
   ]
  },
  {
   "cell_type": "code",
   "execution_count": 57,
   "id": "2d65ad6c-ff1b-4b10-af01-c5d266abed01",
   "metadata": {},
   "outputs": [
    {
     "data": {
      "text/plain": [
       "64"
      ]
     },
     "execution_count": 57,
     "metadata": {},
     "output_type": "execute_result"
    }
   ],
   "source": [
    "round(pow(4,3))"
   ]
  },
  {
   "cell_type": "markdown",
   "id": "2a0eea6b-cd29-4e60-b399-b6e53f30639f",
   "metadata": {},
   "source": [
    "### Floor() = it rounds value down to the nearest whole number."
   ]
  },
  {
   "cell_type": "code",
   "execution_count": 18,
   "id": "d872f233-0629-44ec-b6bc-5bb6e21996f5",
   "metadata": {},
   "outputs": [
    {
     "data": {
      "text/plain": [
       "2"
      ]
     },
     "execution_count": 18,
     "metadata": {},
     "output_type": "execute_result"
    }
   ],
   "source": [
    "math.floor(2.9) # imagine floor as a building floor where the floor is always down."
   ]
  },
  {
   "cell_type": "code",
   "execution_count": 20,
   "id": "e96998f5-7c37-458d-a9e8-9922f62d33af",
   "metadata": {},
   "outputs": [
    {
     "data": {
      "text/plain": [
       "2"
      ]
     },
     "execution_count": 20,
     "metadata": {},
     "output_type": "execute_result"
    }
   ],
   "source": [
    "math.floor(2.1)"
   ]
  },
  {
   "cell_type": "markdown",
   "id": "e9473d87-0f57-4d5e-a133-56c0c317a096",
   "metadata": {},
   "source": [
    "### Ceil() = It rounds value up to the nearest whole number."
   ]
  },
  {
   "cell_type": "code",
   "execution_count": 23,
   "id": "b2f3bad3-2f64-4140-8c38-0632f0609a1a",
   "metadata": {},
   "outputs": [
    {
     "data": {
      "text/plain": [
       "3"
      ]
     },
     "execution_count": 23,
     "metadata": {},
     "output_type": "execute_result"
    }
   ],
   "source": [
    "math.ceil(2.9) # imagine it as a ceiling of the building where it always lies on top."
   ]
  },
  {
   "cell_type": "code",
   "execution_count": 25,
   "id": "be2f8b59-e98d-4134-9cbc-9eaba5ec0da9",
   "metadata": {},
   "outputs": [
    {
     "data": {
      "text/plain": [
       "3"
      ]
     },
     "execution_count": 25,
     "metadata": {},
     "output_type": "execute_result"
    }
   ],
   "source": [
    "math.ceil(2.1)"
   ]
  },
  {
   "cell_type": "markdown",
   "id": "6139ad34-b5fa-40ef-b07f-e1062ed0b8b4",
   "metadata": {},
   "source": [
    "### pow() = pow(x, y) returns x raised to the power of y."
   ]
  },
  {
   "cell_type": "code",
   "execution_count": 28,
   "id": "e644faec-7cd4-4765-99d1-048bd5ee258e",
   "metadata": {},
   "outputs": [
    {
     "data": {
      "text/plain": [
       "9.0"
      ]
     },
     "execution_count": 28,
     "metadata": {},
     "output_type": "execute_result"
    }
   ],
   "source": [
    "math.pow(3,2)"
   ]
  },
  {
   "cell_type": "code",
   "execution_count": 30,
   "id": "2198cb65-6dea-4994-a9e9-ab59fd80e4cb",
   "metadata": {},
   "outputs": [
    {
     "data": {
      "text/plain": [
       "16.0"
      ]
     },
     "execution_count": 30,
     "metadata": {},
     "output_type": "execute_result"
    }
   ],
   "source": [
    "math.pow(2,4)"
   ]
  },
  {
   "cell_type": "code",
   "execution_count": 36,
   "id": "712878ca-be12-4823-b5e5-e2f1b3a6840e",
   "metadata": {},
   "outputs": [
    {
     "data": {
      "text/plain": [
       "256.0"
      ]
     },
     "execution_count": 36,
     "metadata": {},
     "output_type": "execute_result"
    }
   ],
   "source": [
    "math.pow(4,4)"
   ]
  },
  {
   "cell_type": "code",
   "execution_count": 38,
   "id": "5f8d5b5f-04c4-4784-b1ad-538625433f68",
   "metadata": {},
   "outputs": [
    {
     "data": {
      "text/plain": [
       "3.141592653589793"
      ]
     },
     "execution_count": 38,
     "metadata": {},
     "output_type": "execute_result"
    }
   ],
   "source": [
    "math.pi # constant value"
   ]
  },
  {
   "cell_type": "code",
   "execution_count": 41,
   "id": "7703a463-f151-482c-a32d-d27a95d9dcee",
   "metadata": {},
   "outputs": [
    {
     "data": {
      "text/plain": [
       "2.718281828459045"
      ]
     },
     "execution_count": 41,
     "metadata": {},
     "output_type": "execute_result"
    }
   ],
   "source": [
    "math.e # It's the base of the natural logarithm and appears in many mathematical and scientific contexts."
   ]
  },
  {
   "cell_type": "markdown",
   "id": "9f3be563-ebcf-453a-bc80-c4ee277d605e",
   "metadata": {},
   "source": [
    "### Input Function [v.important concept]"
   ]
  },
  {
   "cell_type": "code",
   "execution_count": 60,
   "id": "0f548c72-d10f-4a64-9997-af06de786542",
   "metadata": {},
   "outputs": [
    {
     "name": "stdin",
     "output_type": "stream",
     "text": [
      " 5\n",
      " 5\n"
     ]
    },
    {
     "name": "stdout",
     "output_type": "stream",
     "text": [
      "55\n"
     ]
    }
   ],
   "source": [
    "x = input() # console is waiting for user to enter input.\n",
    "y = input() # Observe closely it's not adding the numbers because, they are in string format.\n",
    "z = x+y     # 1st way of writing input\n",
    "print(z)"
   ]
  },
  {
   "cell_type": "code",
   "execution_count": 62,
   "id": "c4dc2784-6b3a-454d-a2f4-fdc5fd9471cc",
   "metadata": {},
   "outputs": [
    {
     "data": {
      "text/plain": [
       "str"
      ]
     },
     "execution_count": 62,
     "metadata": {},
     "output_type": "execute_result"
    }
   ],
   "source": [
    "type(x)"
   ]
  },
  {
   "cell_type": "code",
   "execution_count": 64,
   "id": "097a3c2e-aa18-4d68-9f7f-fd6a53c6ff9f",
   "metadata": {},
   "outputs": [
    {
     "name": "stdin",
     "output_type": "stream",
     "text": [
      "Enter the 1st number : 10\n",
      "Enter the 2nd number : 10\n"
     ]
    },
    {
     "name": "stdout",
     "output_type": "stream",
     "text": [
      "1010\n"
     ]
    }
   ],
   "source": [
    "a1 = input(\"Enter the 1st number :\") # string format so it's conactenating the numbers.\n",
    "b1 = input(\"Enter the 2nd number :\")\n",
    "c1 = a1+b1\n",
    "print(c1)"
   ]
  },
  {
   "cell_type": "code",
   "execution_count": 70,
   "id": "9194d72c-3438-492e-8ead-21451661e70c",
   "metadata": {},
   "outputs": [
    {
     "name": "stdin",
     "output_type": "stream",
     "text": [
      "Enter the 1st number 11\n",
      "Enter the 2nd number 11\n"
     ]
    },
    {
     "name": "stdout",
     "output_type": "stream",
     "text": [
      "22\n"
     ]
    }
   ],
   "source": [
    "x1 = input('Enter the 1st number') #whenever you works in input function it always give you string \n",
    "a1 = int(x1)\n",
    "y1 = input('Enter the 2nd number') # it wont understand as arithmetic operator\n",
    "b1 = int(y1) # It takes too much memory. so we need to reduce it.\n",
    "z1 = a1 + b1\n",
    "print(z1)"
   ]
  },
  {
   "cell_type": "code",
   "execution_count": 66,
   "id": "c94913a9-b08a-4ffa-be0f-ca8541c16ac7",
   "metadata": {},
   "outputs": [
    {
     "name": "stdin",
     "output_type": "stream",
     "text": [
      "Enter the 1st number : 10\n",
      "Enter the 2nd number : 10\n"
     ]
    },
    {
     "name": "stdout",
     "output_type": "stream",
     "text": [
      "20\n"
     ]
    }
   ],
   "source": [
    "a1 = int(input(\"Enter the 1st number :\")) # we have declared at first as \"int\"\n",
    "b1 = int(input(\"Enter the 2nd number :\"))\n",
    "c1 = a1+b1\n",
    "print(c1)"
   ]
  },
  {
   "cell_type": "code",
   "execution_count": 68,
   "id": "602167fb-7beb-4c74-8260-81370711b6b9",
   "metadata": {},
   "outputs": [
    {
     "data": {
      "text/plain": [
       "int"
      ]
     },
     "execution_count": 68,
     "metadata": {},
     "output_type": "execute_result"
    }
   ],
   "source": [
    "type(a1)"
   ]
  },
  {
   "cell_type": "markdown",
   "id": "a85d5e7a-caaa-4ee6-84f3-2a4292a48797",
   "metadata": {},
   "source": [
    "### char()"
   ]
  },
  {
   "cell_type": "code",
   "execution_count": 75,
   "id": "1dbb481e-8f5e-4dba-8b0f-08ece889f455",
   "metadata": {},
   "outputs": [
    {
     "name": "stdin",
     "output_type": "stream",
     "text": [
      "Enter a char ravi\n"
     ]
    },
    {
     "data": {
      "text/plain": [
       "'ravi'"
      ]
     },
     "execution_count": 75,
     "metadata": {},
     "output_type": "execute_result"
    }
   ],
   "source": [
    "ch = input(\"Enter a char\")\n",
    "ch"
   ]
  },
  {
   "cell_type": "code",
   "execution_count": 77,
   "id": "b1210288-3d02-4c55-be18-021cbcf0db70",
   "metadata": {},
   "outputs": [
    {
     "name": "stdout",
     "output_type": "stream",
     "text": [
      "r\n"
     ]
    }
   ],
   "source": [
    "print(ch[0])"
   ]
  },
  {
   "cell_type": "code",
   "execution_count": 79,
   "id": "31b701cf-489d-435b-beb3-f3578cd77087",
   "metadata": {},
   "outputs": [
    {
     "name": "stdin",
     "output_type": "stream",
     "text": [
      "Enter a char ravi\n"
     ]
    },
    {
     "data": {
      "text/plain": [
       "'v'"
      ]
     },
     "execution_count": 79,
     "metadata": {},
     "output_type": "execute_result"
    }
   ],
   "source": [
    "ch = input(\"Enter a char\")[2] # we can also write like this and also you can apply slicing functions.\n",
    "ch"
   ]
  },
  {
   "cell_type": "markdown",
   "id": "680c8486-6343-40f7-9727-5a12cdf73283",
   "metadata": {},
   "source": [
    "### Eval()"
   ]
  },
  {
   "cell_type": "code",
   "execution_count": 84,
   "id": "9ebe14e9-f7c8-4fe2-88de-89f5be38a33e",
   "metadata": {},
   "outputs": [
    {
     "name": "stdin",
     "output_type": "stream",
     "text": [
      "Enter an expr 2*4+5\n"
     ]
    },
    {
     "data": {
      "text/plain": [
       "13"
      ]
     },
     "execution_count": 84,
     "metadata": {},
     "output_type": "execute_result"
    }
   ],
   "source": [
    "result = eval(input(\"Enter an expr\")) # This function takes a string as input and attempts to evaluate it as a Python expression.\n",
    "result"
   ]
  },
  {
   "cell_type": "code",
   "execution_count": 86,
   "id": "f4bd7ffc-c2de-42cb-a7f0-6e39285eea10",
   "metadata": {},
   "outputs": [
    {
     "name": "stdin",
     "output_type": "stream",
     "text": [
      "Enter an expr 2*3+4\n"
     ]
    },
    {
     "data": {
      "text/plain": [
       "'2*3+4'"
      ]
     },
     "execution_count": 86,
     "metadata": {},
     "output_type": "execute_result"
    }
   ],
   "source": [
    "result = (input(\"Enter an expr\")) # It returns the input as output.\n",
    "result # so eval functioon evaluates the expression and gives it as output."
   ]
  },
  {
   "cell_type": "code",
   "execution_count": null,
   "id": "b9557b8c-3375-4a16-b187-5722c2bbb189",
   "metadata": {},
   "outputs": [],
   "source": [
    "# You can do this expressions using command prompt. And the notes is present in python part 1."
   ]
  },
  {
   "cell_type": "code",
   "execution_count": null,
   "id": "9de51ec1-88e6-46e0-aba6-18c98f277455",
   "metadata": {},
   "outputs": [],
   "source": []
  }
 ],
 "metadata": {
  "kernelspec": {
   "display_name": "Python [conda env:base] *",
   "language": "python",
   "name": "conda-base-py"
  },
  "language_info": {
   "codemirror_mode": {
    "name": "ipython",
    "version": 3
   },
   "file_extension": ".py",
   "mimetype": "text/x-python",
   "name": "python",
   "nbconvert_exporter": "python",
   "pygments_lexer": "ipython3",
   "version": "3.12.7"
  }
 },
 "nbformat": 4,
 "nbformat_minor": 5
}
