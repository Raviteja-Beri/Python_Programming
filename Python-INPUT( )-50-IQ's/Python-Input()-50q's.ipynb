{
 "cells": [
  {
   "cell_type": "markdown",
   "id": "c9d75977-fa2d-4d41-b113-74f962855f87",
   "metadata": {},
   "source": [
    "# Pyhton 50 questions on Input()"
   ]
  },
  {
   "cell_type": "code",
   "execution_count": 2,
   "id": "cceedd5c-9a91-46ca-8f62-2f90cc90c488",
   "metadata": {},
   "outputs": [
    {
     "name": "stdin",
     "output_type": "stream",
     "text": [
      "Enter the number: 1\n"
     ]
    }
   ],
   "source": [
    "a1=int(input(\"Enter the number:\")) # 2\n"
   ]
  },
  {
   "cell_type": "code",
   "execution_count": 8,
   "id": "cb95a5d6-4051-4998-a299-240f982b15b4",
   "metadata": {},
   "outputs": [
    {
     "name": "stdin",
     "output_type": "stream",
     "text": [
      "Enter the float: 3.5\n"
     ]
    }
   ],
   "source": [
    "a2=float(input(\"Enter the float:\")) # 3"
   ]
  },
  {
   "cell_type": "code",
   "execution_count": 54,
   "id": "df423b49-9b68-494f-bdfe-e1b7a721243d",
   "metadata": {},
   "outputs": [
    {
     "name": "stdin",
     "output_type": "stream",
     "text": [
      "enter the number 2 3 4 45\n"
     ]
    },
    {
     "data": {
      "text/plain": [
       "['2', '3', '4', '45']"
      ]
     },
     "execution_count": 54,
     "metadata": {},
     "output_type": "execute_result"
    }
   ],
   "source": [
    "a3=input(\"enter the number\").split() # 4\n",
    "a3"
   ]
  },
  {
   "cell_type": "code",
   "execution_count": 34,
   "id": "b3df7218-97d7-4ef1-a7bd-326e4c2d4175",
   "metadata": {},
   "outputs": [
    {
     "name": "stdin",
     "output_type": "stream",
     "text": [
      "Enter the number: 0\n"
     ]
    },
    {
     "name": "stdout",
     "output_type": "stream",
     "text": [
      "0 is zero\n"
     ]
    }
   ],
   "source": [
    "a1=int(input(\"Enter the number:\")) # 5\n",
    "if a1>0:\n",
    "    print(a1,\"is a positive number\")\n",
    "elif a1<0:\n",
    "    print(a1,\"is a negative number\")\n",
    "else:\n",
    "    print(a1,\"is zero\")"
   ]
  },
  {
   "cell_type": "code",
   "execution_count": 62,
   "id": "afa48cd4-b3f3-48e7-b561-2b2ba184467d",
   "metadata": {},
   "outputs": [
    {
     "name": "stdin",
     "output_type": "stream",
     "text": [
      "Enter the number: 2 3 4 45\n"
     ]
    },
    {
     "name": "stdout",
     "output_type": "stream",
     "text": [
      "['2 3 4 45']\n"
     ]
    }
   ],
   "source": [
    "a1=input(\"Enter the number:\") # 6\n",
    "a1=[a1]\n",
    "print(a1)"
   ]
  },
  {
   "cell_type": "code",
   "execution_count": 64,
   "id": "5d723159-feca-40fa-9cb1-17504dcb559d",
   "metadata": {},
   "outputs": [
    {
     "name": "stdin",
     "output_type": "stream",
     "text": [
      "Enter the number: 2 3 4 45\n"
     ]
    },
    {
     "name": "stdout",
     "output_type": "stream",
     "text": [
      "['2 3 4 45']\n"
     ]
    }
   ],
   "source": [
    "a1=[input(\"Enter the number:\")] # Both approaches gives same output\n",
    "print(a1)"
   ]
  },
  {
   "cell_type": "code",
   "execution_count": 74,
   "id": "791b5006-d0c2-4607-bd00-caf7145a10bd",
   "metadata": {},
   "outputs": [
    {
     "name": "stdin",
     "output_type": "stream",
     "text": [
      "Enter a string: ravi\n"
     ]
    },
    {
     "name": "stdout",
     "output_type": "stream",
     "text": [
      "RAVI\n"
     ]
    }
   ],
   "source": [
    "a1=input(\"Enter a string:\") # 7\n",
    "print(a1.upper())"
   ]
  },
  {
   "cell_type": "code",
   "execution_count": 76,
   "id": "b7e0f1b9-fa17-463c-8c52-0fb774b5e674",
   "metadata": {},
   "outputs": [
    {
     "name": "stdin",
     "output_type": "stream",
     "text": [
      "Enter a string: raviteja\n"
     ]
    },
    {
     "name": "stdout",
     "output_type": "stream",
     "text": [
      "RAVITEJA\n"
     ]
    }
   ],
   "source": [
    "a1=input(\"Enter a string:\") # 7\n",
    "a1=a1.upper()\n",
    "print(a1)"
   ]
  },
  {
   "cell_type": "code",
   "execution_count": 132,
   "id": "446e6ebc-5d5b-4a0c-ad19-05242b0ab61e",
   "metadata": {},
   "outputs": [
    {
     "name": "stdin",
     "output_type": "stream",
     "text": [
      "Enter a string: Raviteja\n"
     ]
    },
    {
     "name": "stdout",
     "output_type": "stream",
     "text": [
      "Number of vowels: 4\n",
      "detected vowels are: a,i,e,a\n"
     ]
    }
   ],
   "source": [
    "a1=input(\"Enter a string:\") # 8\n",
    "vowels=\"aeiou\"\n",
    "count=sum(1 for char in a1 if char.lower() in vowels)\n",
    "print(\"Number of vowels:\",count)\n",
    "a2=\",\".join(char for char in a1 if char.lower() in vowels)\n",
    "print(\"detected vowels are:\", a2)"
   ]
  },
  {
   "cell_type": "code",
   "execution_count": 140,
   "id": "8004960e-18db-4e2c-9a8a-e3d9bfdc6a6e",
   "metadata": {},
   "outputs": [
    {
     "name": "stdin",
     "output_type": "stream",
     "text": [
      "Enter the number: 4\n"
     ]
    },
    {
     "name": "stdout",
     "output_type": "stream",
     "text": [
      "4 is even number\n"
     ]
    }
   ],
   "source": [
    "a1=int(input(\"Enter the number:\")) # 9\n",
    "if a1%2==0:\n",
    "     print(a1,\"is even number\")\n",
    "else:\n",
    "    print(a1,\"is a odd number\")"
   ]
  },
  {
   "cell_type": "code",
   "execution_count": 148,
   "id": "504ae954-d9d5-4cb9-8c5c-16868bf49074",
   "metadata": {},
   "outputs": [
    {
     "name": "stdin",
     "output_type": "stream",
     "text": [
      "enter the number: 121\n"
     ]
    },
    {
     "name": "stdout",
     "output_type": "stream",
     "text": [
      "It's a palindrome number\n"
     ]
    }
   ],
   "source": [
    "a1=input(\"enter the number:\") # 10\n",
    "a2=a1[::-1]\n",
    "if a2 == a1:\n",
    "    print(\"It's a palindrome number\")\n",
    "else:\n",
    "    print(\"Not a palindrome\")"
   ]
  },
  {
   "cell_type": "code",
   "execution_count": 156,
   "id": "2697025c-9329-4eaa-9b21-088c98ab3aa1",
   "metadata": {},
   "outputs": [
    {
     "name": "stdin",
     "output_type": "stream",
     "text": [
      "enter the number: 122\n"
     ]
    },
    {
     "name": "stdout",
     "output_type": "stream",
     "text": [
      "Not a palindrome\n"
     ]
    }
   ],
   "source": [
    "a1=input(\"enter the number:\") # 10 we can also write like this.\n",
    "if a1==a1[::-1]:\n",
    "    print(\"It's a palindrome number\")\n",
    "else:\n",
    "    print(\"Not a palindrome\")"
   ]
  },
  {
   "cell_type": "code",
   "execution_count": 162,
   "id": "f0d3a1d6-b2a8-4602-bf7a-fff96886ca25",
   "metadata": {},
   "outputs": [
    {
     "name": "stdin",
     "output_type": "stream",
     "text": [
      "Enter the number: 5\n"
     ]
    },
    {
     "name": "stdout",
     "output_type": "stream",
     "text": [
      "25\n"
     ]
    }
   ],
   "source": [
    "a1=int(input(\"Enter the number:\")) # 11\n",
    "a1 = a1**2\n",
    "print(a1)"
   ]
  },
  {
   "cell_type": "code",
   "execution_count": 164,
   "id": "97add1da-9918-4896-95ee-4601f9aff64c",
   "metadata": {},
   "outputs": [
    {
     "name": "stdin",
     "output_type": "stream",
     "text": [
      "Enter the number: 2\n"
     ]
    },
    {
     "name": "stdout",
     "output_type": "stream",
     "text": [
      "square number is 4\n"
     ]
    }
   ],
   "source": [
    "a1=int(input(\"Enter the number:\")) # 11\n",
    "print(\"square number is\", a1**2)"
   ]
  },
  {
   "cell_type": "code",
   "execution_count": 172,
   "id": "d9d2fffd-148f-484a-b2a5-a2ea04fbc800",
   "metadata": {},
   "outputs": [
    {
     "name": "stdin",
     "output_type": "stream",
     "text": [
      "Enter the number: 30\n"
     ]
    },
    {
     "name": "stdout",
     "output_type": "stream",
     "text": [
      "Divisble by 3\n"
     ]
    }
   ],
   "source": [
    "a1=int(input(\"Enter the number:\")) # 12\n",
    "if a1%3==0:\n",
    "    print(\"Divisble by 3\")\n",
    "else:\n",
    "    print(\"Not divisible by 3\")"
   ]
  },
  {
   "cell_type": "code",
   "execution_count": 176,
   "id": "4fbd9962-0959-4689-a016-f3f0f5789db9",
   "metadata": {},
   "outputs": [
    {
     "name": "stdin",
     "output_type": "stream",
     "text": [
      "Enter the number: 21\n"
     ]
    },
    {
     "name": "stdout",
     "output_type": "stream",
     "text": [
      "Divisble by 3 and 7\n"
     ]
    }
   ],
   "source": [
    "a1=int(input(\"Enter the number:\")) # 13\n",
    "if a1%3==0 and a1%7==0:\n",
    "    print(\"Divisble by 3 and 7\")\n",
    "else:\n",
    "    print(\"Not divisible by 3 and 7\")"
   ]
  },
  {
   "cell_type": "code",
   "execution_count": 180,
   "id": "ab84f2e4-7b04-4428-9748-90b83ea66af9",
   "metadata": {},
   "outputs": [
    {
     "name": "stdin",
     "output_type": "stream",
     "text": [
      "Enter the number: 63\n"
     ]
    },
    {
     "name": "stdout",
     "output_type": "stream",
     "text": [
      "Divisble by 3 and 7\n"
     ]
    }
   ],
   "source": [
    "a1=int(input(\"Enter the number:\")) # 13\n",
    "if a1%3==0 & a1%7==0:\n",
    "    print(\"Divisble by 3 and 7\")\n",
    "else:\n",
    "    print(\"Not divisible by 3 and 7\")"
   ]
  },
  {
   "cell_type": "code",
   "execution_count": 192,
   "id": "c82e83a6-c66e-47e6-a7f5-f8ed7e86b0bc",
   "metadata": {},
   "outputs": [
    {
     "name": "stdin",
     "output_type": "stream",
     "text": [
      "Enter the values: 1 2 3\n"
     ]
    },
    {
     "name": "stdout",
     "output_type": "stream",
     "text": [
      "['1 2 3']\n"
     ]
    }
   ],
   "source": [
    "a1=input(\"Enter the values:\").split(',') # 14\n",
    "print (a1)"
   ]
  },
  {
   "cell_type": "code",
   "execution_count": 194,
   "id": "9f025414-a0de-4bc1-a181-f26115562444",
   "metadata": {},
   "outputs": [
    {
     "name": "stdin",
     "output_type": "stream",
     "text": [
      "Enter the 1st number:  2\n",
      "Enter the 2nd number:  2\n"
     ]
    },
    {
     "name": "stdout",
     "output_type": "stream",
     "text": [
      "product of two numbers is:  4\n"
     ]
    }
   ],
   "source": [
    "a1=int(input(\"Enter the 1st number: \")) # 15\n",
    "a2=int(input(\"Enter the 2nd number: \"))\n",
    "product=a1*a2\n",
    "print(\"product of two numbers is: \",product)"
   ]
  },
  {
   "cell_type": "code",
   "execution_count": 196,
   "id": "05cb12af-0b32-4eca-abb8-d61f6067f39e",
   "metadata": {},
   "outputs": [
    {
     "name": "stdin",
     "output_type": "stream",
     "text": [
      "Enter the 1st number:  2 \n",
      "Enter the 2nd number:  2\n"
     ]
    },
    {
     "name": "stdout",
     "output_type": "stream",
     "text": [
      "product of two numbers is:  4\n"
     ]
    }
   ],
   "source": [
    "a1=int(input(\"Enter the 1st number: \")) # 15, memory saving by simplifying the code\n",
    "a2=int(input(\"Enter the 2nd number: \"))\n",
    "print(\"product of two numbers is: \",a1*a2)"
   ]
  },
  {
   "cell_type": "code",
   "execution_count": 214,
   "id": "e47fa2bf-e04e-4781-9495-62cac3af2904",
   "metadata": {},
   "outputs": [
    {
     "name": "stdin",
     "output_type": "stream",
     "text": [
      "Enter the number:  9\n"
     ]
    },
    {
     "name": "stdout",
     "output_type": "stream",
     "text": [
      "Not a prime number\n"
     ]
    }
   ],
   "source": [
    "a1=int(input(\"Enter the number: \")) # 16\n",
    "if a1>1:\n",
    "    for i in range(2, a1):\n",
    "        if a1%i==0:\n",
    "            print(\"Not a prime number\")\n",
    "            break;\n",
    "    else:\n",
    "        print(\"It's a prime number\")\n",
    "else:\n",
    "    print(\"Not a prime number\")\n",
    "    "
   ]
  },
  {
   "cell_type": "code",
   "execution_count": 216,
   "id": "afc4a41d-a0b2-45c9-b127-56bbcadead0a",
   "metadata": {},
   "outputs": [
    {
     "name": "stdin",
     "output_type": "stream",
     "text": [
      "enter True or False:  true\n"
     ]
    }
   ],
   "source": [
    "a1=input(\"enter True or False: \").lower()==\"true\" # 17"
   ]
  },
  {
   "cell_type": "code",
   "execution_count": 222,
   "id": "1d585147-03e3-4602-88a0-3ac0146f6669",
   "metadata": {},
   "outputs": [
    {
     "name": "stdin",
     "output_type": "stream",
     "text": [
      "enter a string:  ravi teja\n"
     ]
    },
    {
     "name": "stdout",
     "output_type": "stream",
     "text": [
      "reverse of a string is:  ajet ivar\n"
     ]
    }
   ],
   "source": [
    "a1=input(\"enter a string: \") # 18\n",
    "print(\"reverse of a string is: \", a1[::-1])"
   ]
  },
  {
   "cell_type": "code",
   "execution_count": 230,
   "id": "01aa7314-e4a9-4afc-a706-b978d333ec06",
   "metadata": {},
   "outputs": [
    {
     "name": "stdin",
     "output_type": "stream",
     "text": [
      "Enter your name:  raviteja\n",
      "Enter your age:  23\n"
     ]
    },
    {
     "name": "stdout",
     "output_type": "stream",
     "text": [
      "My name is raviteja. Iam 23 years old.\n"
     ]
    }
   ],
   "source": [
    "a1=input(\"Enter your name: \") # 19\n",
    "a2=input(\"Enter your age: \")\n",
    "print(f\"My name is {a1}. Iam {a2} years old.\")"
   ]
  },
  {
   "cell_type": "code",
   "execution_count": 234,
   "id": "1b541c4f-d28f-4d95-8449-7f9dd505b3fd",
   "metadata": {},
   "outputs": [
    {
     "name": "stdin",
     "output_type": "stream",
     "text": [
      "Enter the number:  4\n"
     ]
    },
    {
     "name": "stdout",
     "output_type": "stream",
     "text": [
      "24\n"
     ]
    }
   ],
   "source": [
    "a1=int(input(\"Enter the number: \")) # 20\n",
    "fact=1\n",
    "for i in range(1, a1+1):\n",
    "    fact*=i\n",
    "print(fact)"
   ]
  },
  {
   "cell_type": "code",
   "execution_count": 244,
   "id": "6c429cd0-994e-434d-95a7-29cc96e95c93",
   "metadata": {},
   "outputs": [
    {
     "name": "stdin",
     "output_type": "stream",
     "text": [
      "Enter something:  \n"
     ]
    },
    {
     "name": "stdout",
     "output_type": "stream",
     "text": [
      "input cannot be empty\n"
     ]
    }
   ],
   "source": [
    "# 21. How do you prevent a user from entering an empty string? \n",
    "a1=input(\"Enter something: \").strip()\n",
    "if not a1:\n",
    "    print(\"input cannot be empty\")\n",
    "else:\n",
    "    print(f\"you entered: {a1}\")"
   ]
  },
  {
   "cell_type": "code",
   "execution_count": 242,
   "id": "c4f4efef-cf9d-44dd-bd36-4fb4dcde5f77",
   "metadata": {},
   "outputs": [
    {
     "name": "stdin",
     "output_type": "stream",
     "text": [
      "Enter something:  22\n"
     ]
    },
    {
     "name": "stdout",
     "output_type": "stream",
     "text": [
      "you entered: 22\n"
     ]
    }
   ],
   "source": [
    "# 21. How do you prevent a user from entering an empty string? \n",
    "a1=input(\"Enter something: \").strip()\n",
    "if not a1:\n",
    "    print(\"input cannot be empty\")\n",
    "else:\n",
    "    print(f\"you entered: {a1}\")"
   ]
  },
  {
   "cell_type": "code",
   "execution_count": 250,
   "id": "d6f69354-fb76-4fb9-a1a2-e43cbdb51941",
   "metadata": {},
   "outputs": [
    {
     "name": "stdin",
     "output_type": "stream",
     "text": [
      "Enter the number:  4\n"
     ]
    },
    {
     "name": "stdout",
     "output_type": "stream",
     "text": [
      "perfect square\n"
     ]
    }
   ],
   "source": [
    "# 22. Write a program to check if an entered number is a perfect square?\n",
    "import math\n",
    "a1=int(input(\"Enter the number: \"))\n",
    "if math.sqrt(a1)**2==a1:\n",
    "    print(\"perfect square\")\n",
    "else:\n",
    "    print(\"Not a perfect square\")"
   ]
  },
  {
   "cell_type": "code",
   "execution_count": 252,
   "id": "f20f1f79-d54a-4cae-965b-b27e3265f914",
   "metadata": {},
   "outputs": [
    {
     "name": "stdin",
     "output_type": "stream",
     "text": [
      "Enter the number:  6\n"
     ]
    },
    {
     "name": "stdout",
     "output_type": "stream",
     "text": [
      "Not a perfect square\n"
     ]
    }
   ],
   "source": [
    "# 22. Write a program to check if an entered number is a perfect square?\n",
    "import math\n",
    "a1=int(input(\"Enter the number: \"))\n",
    "if math.sqrt(a1)**2==a1:\n",
    "    print(\"perfect square\")\n",
    "else:\n",
    "    print(\"Not a perfect square\")"
   ]
  },
  {
   "cell_type": "code",
   "execution_count": 254,
   "id": "7424e6a3-2c09-4d2d-8db0-b3e08bba0b7e",
   "metadata": {},
   "outputs": [
    {
     "name": "stdin",
     "output_type": "stream",
     "text": [
      "Enter a number:  2024\n"
     ]
    },
    {
     "name": "stdout",
     "output_type": "stream",
     "text": [
      "2024 is a Leap year\n"
     ]
    }
   ],
   "source": [
    "# 23.  Write a program that asks the user for a year and determines if it's a leap year?\n",
    "a1=int(input(\"Enter a number: \"))\n",
    "if(a1%4 == 0 and a1%100 != 0) or (a1%400 == 0):\n",
    "    print(a1,\"is a Leap year\")\n",
    "else:\n",
    "    print(a1,\"Not a Leap year\")"
   ]
  },
  {
   "cell_type": "code",
   "execution_count": 262,
   "id": "ab970530-2f2a-40ab-8b4a-4f3f783f07b9",
   "metadata": {},
   "outputs": [
    {
     "name": "stdin",
     "output_type": "stream",
     "text": [
      "Enter the string:         ravi teja\n"
     ]
    },
    {
     "name": "stdout",
     "output_type": "stream",
     "text": [
      "ravi teja\n"
     ]
    }
   ],
   "source": [
    "# 24. How can you remove leading and trailing spaces from a string input? \n",
    "a1=input(\"Enter the string: \").strip()\n",
    "print(a1)"
   ]
  },
  {
   "cell_type": "code",
   "execution_count": 264,
   "id": "0bba6152-26d5-4b3b-aa73-23e88a6e8854",
   "metadata": {},
   "outputs": [
    {
     "name": "stdin",
     "output_type": "stream",
     "text": [
      "Enter a number:  6.6\n"
     ]
    },
    {
     "name": "stdout",
     "output_type": "stream",
     "text": [
      "Invalid input\n"
     ]
    }
   ],
   "source": [
    "# 25. How do you handle incorrect inputs when you expect an integer using `input()`? \n",
    "try:\n",
    "    a1=int(input(\"Enter a number: \"))\n",
    "except ValueError:\n",
    "    print(\"Invalid input\")"
   ]
  },
  {
   "cell_type": "code",
   "execution_count": 268,
   "id": "79fc4940-ead9-4607-81f0-c9dd0dae025b",
   "metadata": {},
   "outputs": [
    {
     "name": "stdin",
     "output_type": "stream",
     "text": [
      "Enter a number:  4\n"
     ]
    }
   ],
   "source": [
    "# 25. How do you handle incorrect inputs when you expect an integer using `input()`? \n",
    "try:\n",
    "    a1=int(input(\"Enter a number: \"))\n",
    "except ValueError:\n",
    "    print(\"Invalid input\")"
   ]
  },
  {
   "cell_type": "code",
   "execution_count": 29,
   "id": "b4380b49-383b-4f36-b204-c85849db0f35",
   "metadata": {},
   "outputs": [
    {
     "name": "stdin",
     "output_type": "stream",
     "text": [
      "Enter a string:  raviteja\n",
      "which alphabet you want to count:  a\n"
     ]
    },
    {
     "name": "stdout",
     "output_type": "stream",
     "text": [
      "char in a: 2\n"
     ]
    }
   ],
   "source": [
    "# 26. Write a program that accepts a string and counts the occurrence of a particular character?\n",
    "a1=input(\"Enter a string: \")\n",
    "a2=input(\"which alphabet you want to count: \")\n",
    "print(f\"char in {a2}: {a1.count(a2)}\")"
   ]
  },
  {
   "cell_type": "code",
   "execution_count": 33,
   "id": "123451d9-ab6c-4ade-add5-b3231dd23768",
   "metadata": {},
   "outputs": [
    {
     "name": "stdin",
     "output_type": "stream",
     "text": [
      "Enter a character:  RAVITEJA\n"
     ]
    },
    {
     "name": "stdout",
     "output_type": "stream",
     "text": [
      "raviteja\n"
     ]
    }
   ],
   "source": [
    "# 27. How would you convert user input to lowercase using `input()`? \n",
    "a1=input(\"Enter a character: \")\n",
    "print(a1.lower())"
   ]
  },
  {
   "cell_type": "code",
   "execution_count": 41,
   "id": "edeb6bfd-9eb9-4392-b440-2d2e7891d703",
   "metadata": {},
   "outputs": [
    {
     "name": "stdin",
     "output_type": "stream",
     "text": [
      "Enter a number:  50\n"
     ]
    },
    {
     "name": "stdout",
     "output_type": "stream",
     "text": [
      "50 is a multiple of 10\n"
     ]
    }
   ],
   "source": [
    "# 28. Write a program that accepts a number and prints whether it is a multiple of 10?\n",
    "a1=int(input(\"Enter a number: \"))\n",
    "if a1%10==0:\n",
    "    print(a1,\"is a multiple of 10\")\n",
    "else:\n",
    "    print(a1,\"Not a multiple of 10\")"
   ]
  },
  {
   "cell_type": "code",
   "execution_count": 51,
   "id": "86b06dfa-e17a-446d-adf2-3ff6c4efd424",
   "metadata": {},
   "outputs": [
    {
     "name": "stdin",
     "output_type": "stream",
     "text": [
      "Enter a string:  ravi\n"
     ]
    },
    {
     "name": "stdout",
     "output_type": "stream",
     "text": [
      "ravi contains only alphabets\n"
     ]
    }
   ],
   "source": [
    "# 29.  How would you check if a string contains only alphabets using `input()`?\n",
    "a1=input(\"Enter a string: \")\n",
    "if a1.isalpha():\n",
    "    print(a1,\"contains only alphabets\")\n",
    "else:\n",
    "    print(a1,\"not contains alphabets\")"
   ]
  },
  {
   "cell_type": "code",
   "execution_count": 53,
   "id": "afcbaeea-5966-4749-a435-8707bd13c144",
   "metadata": {},
   "outputs": [
    {
     "name": "stdin",
     "output_type": "stream",
     "text": [
      "enter a sentence:  ravi teja hi\n"
     ]
    },
    {
     "name": "stdout",
     "output_type": "stream",
     "text": [
      "3\n"
     ]
    }
   ],
   "source": [
    "# 30. Write a program to count the number of words in a sentence entered by the user?\n",
    "a1=input(\"enter a sentence: \")\n",
    "print(len(a1.split()))"
   ]
  },
  {
   "cell_type": "code",
   "execution_count": 59,
   "id": "79b77828-e603-4456-81a9-23f9e326743a",
   "metadata": {},
   "outputs": [
    {
     "name": "stdin",
     "output_type": "stream",
     "text": [
      "Enter the date(YYYY-MM-DD):  2024-03-30\n"
     ]
    },
    {
     "name": "stdout",
     "output_type": "stream",
     "text": [
      "2024-03-30 00:00:00\n"
     ]
    }
   ],
   "source": [
    "# 31. How would you accept a date input from the user in Python?\n",
    "from datetime import datetime\n",
    "a1=input(\"Enter the date(YYYY-MM-DD): \")\n",
    "date=datetime.strptime(a1,\"%Y-%m-%d\")\n",
    "print(date)\n"
   ]
  },
  {
   "cell_type": "code",
   "execution_count": 67,
   "id": "ba5fdc61-3d48-42b0-87df-8782595c5248",
   "metadata": {},
   "outputs": [
    {
     "name": "stdin",
     "output_type": "stream",
     "text": [
      "Enter a number:  15\n"
     ]
    },
    {
     "name": "stdout",
     "output_type": "stream",
     "text": [
      "15 is divisible by both\n"
     ]
    }
   ],
   "source": [
    "# 32.  Write a program that checks if the entered number is divisible by both 3 and 5?\n",
    "a1=int(input(\"Enter a number: \"))\n",
    "if a1 % 3 == 0 and a1 % 5 == 0:\n",
    "    print(a1,\"is divisible by both\")\n",
    "else:\n",
    "    print(a1,\"is not divisible by both\")"
   ]
  },
  {
   "cell_type": "code",
   "execution_count": 69,
   "id": "d42e2cc5-bfff-4725-88ba-c695d91be8d4",
   "metadata": {},
   "outputs": [
    {
     "name": "stdin",
     "output_type": "stream",
     "text": [
      "Enter a value:  10\n",
      "Enter b value:  20\n"
     ]
    },
    {
     "name": "stdout",
     "output_type": "stream",
     "text": [
      "20 10\n"
     ]
    }
   ],
   "source": [
    "# 33. Write a program to swap the values of two variables using `input()`?\n",
    "a=input(\"Enter a value: \")\n",
    "b=input(\"Enter b value: \")\n",
    "a,b=b,a\n",
    "print(a,b)"
   ]
  },
  {
   "cell_type": "code",
   "execution_count": 75,
   "id": "d45cee04-cb26-4020-9f8c-68c75b674b0f",
   "metadata": {},
   "outputs": [
    {
     "name": "stdin",
     "output_type": "stream",
     "text": [
      "Enter a input:  ravi teja\n"
     ]
    },
    {
     "name": "stdout",
     "output_type": "stream",
     "text": [
      "raviteja\n"
     ]
    }
   ],
   "source": [
    "# 34. Write a program to take user input and print it without spaces between words?\n",
    "a1=input(\"Enter a input: \")\n",
    "print(a1.replace(\" \",\"\"))"
   ]
  },
  {
   "cell_type": "code",
   "execution_count": 81,
   "id": "edf6de4b-8bce-4405-b51d-9d4563898447",
   "metadata": {},
   "outputs": [
    {
     "name": "stdin",
     "output_type": "stream",
     "text": [
      "Enter email:  beri@12gmail.com\n"
     ]
    },
    {
     "name": "stdout",
     "output_type": "stream",
     "text": [
      "Valid email\n"
     ]
    }
   ],
   "source": [
    "# 35.  How do you validate if an entered input is a valid email address? \n",
    "import re \n",
    "a1 = input(\"Enter email: \") \n",
    "if re.match(r\"[^@]+@[^@]+\\.[^@]+\", a1): \n",
    "    print(\"Valid email\") \n",
    "else: \n",
    "    print(\"Invalid email\") "
   ]
  },
  {
   "cell_type": "code",
   "execution_count": 83,
   "id": "38a29e2b-55ce-436d-ac8b-74414ebb21ba",
   "metadata": {},
   "outputs": [
    {
     "name": "stdin",
     "output_type": "stream",
     "text": [
      "Enter a number:  3\n"
     ]
    },
    {
     "name": "stdout",
     "output_type": "stream",
     "text": [
      "27\n"
     ]
    }
   ],
   "source": [
    "# 36. Write a program that accepts a number and prints its cube?\n",
    "a1=int(input(\"Enter a number: \"))\n",
    "print(a1**3)"
   ]
  },
  {
   "cell_type": "code",
   "execution_count": 85,
   "id": "748bb73c-f788-44b2-97cd-3b3f1c44f2e7",
   "metadata": {},
   "outputs": [
    {
     "name": "stdin",
     "output_type": "stream",
     "text": [
      "Enter names:  ravi teja\n"
     ]
    },
    {
     "name": "stdout",
     "output_type": "stream",
     "text": [
      "['ravi', 'teja']\n"
     ]
    }
   ],
   "source": [
    "# 37. How would you accept and store multiple names from the user?\n",
    "a1=input(\"Enter names: \")\n",
    "print(a1.split())"
   ]
  },
  {
   "cell_type": "code",
   "execution_count": 1,
   "id": "60e72c7a-6b7c-4306-a3aa-56c65a2f414a",
   "metadata": {},
   "outputs": [
    {
     "name": "stdin",
     "output_type": "stream",
     "text": [
      "Enter a string:  ravi19\n"
     ]
    },
    {
     "name": "stdout",
     "output_type": "stream",
     "text": [
      "['19']\n"
     ]
    }
   ],
   "source": [
    "# 38. How would you extract numbers from a string entered by the user? \n",
    "import re\n",
    "a1=input(\"Enter a string: \")\n",
    "num=re.findall(r'\\d+',a1) # d = digits\n",
    "print(num)"
   ]
  },
  {
   "cell_type": "code",
   "execution_count": 7,
   "id": "9c6e102c-a7aa-4a82-85a0-4bebef662a10",
   "metadata": {},
   "outputs": [
    {
     "name": "stdin",
     "output_type": "stream",
     "text": [
      "Enter numbers separated by spaces:  12 23 34\n"
     ]
    },
    {
     "name": "stdout",
     "output_type": "stream",
     "text": [
      "Maximum number: 34\n"
     ]
    }
   ],
   "source": [
    "# 39.  How do you find the maximum number from a list of integers entered by the user? \n",
    "numbers = list(map(int, input(\"Enter numbers separated by spaces: \").split())) \n",
    "print(\"Maximum number:\", max(numbers)) "
   ]
  },
  {
   "cell_type": "code",
   "execution_count": 9,
   "id": "c2cec76c-2939-4407-9294-83cdc37fe1ae",
   "metadata": {},
   "outputs": [
    {
     "name": "stdin",
     "output_type": "stream",
     "text": [
      "Enter a valid number:  2.4\n"
     ]
    },
    {
     "name": "stdout",
     "output_type": "stream",
     "text": [
      "Invalid input\n"
     ]
    },
    {
     "name": "stdin",
     "output_type": "stream",
     "text": [
      "Enter a valid number:  22\n"
     ]
    }
   ],
   "source": [
    "# 40. How would you prompt the user for input until they enter a valid number? \n",
    "while True:\n",
    "    try:\n",
    "        a1=int(input(\"Enter a valid number: \"))\n",
    "        break;\n",
    "    except ValueError:\n",
    "        print(\"Invalid input\")"
   ]
  },
  {
   "cell_type": "code",
   "execution_count": 11,
   "id": "00394223-e323-4698-876c-62f84c17ee28",
   "metadata": {},
   "outputs": [
    {
     "name": "stdin",
     "output_type": "stream",
     "text": [
      "Entyer the numbers:  ravi19teja\n"
     ]
    },
    {
     "name": "stdout",
     "output_type": "stream",
     "text": [
      "Contains digits\n"
     ]
    }
   ],
   "source": [
    "# 41.  Write a program to check if the entered string has digits.  \n",
    "a1=input(\"Entyer the numbers: \")\n",
    "if any(char.isdigit()for char in a1):\n",
    "    print(\"Contains digits\")\n",
    "else:\n",
    "    print(\"No digits\")"
   ]
  },
  {
   "cell_type": "code",
   "execution_count": 13,
   "id": "f53445b1-723a-4b10-8fe5-f5c64e7d8863",
   "metadata": {},
   "outputs": [
    {
     "name": "stdin",
     "output_type": "stream",
     "text": [
      "Entyer the numbers:  raviteja\n"
     ]
    },
    {
     "name": "stdout",
     "output_type": "stream",
     "text": [
      "Contains no whitespaces \n"
     ]
    }
   ],
   "source": [
    "# 42.  Write a program to check if the entered string has only whitespace characters?\n",
    "a1=input(\"Entyer the numbers: \")\n",
    "if a1.isspace():\n",
    "    print(\"Contains whitespaces\")\n",
    "else:\n",
    "    print(\"Contains no whitespaces \")"
   ]
  },
  {
   "cell_type": "code",
   "execution_count": 19,
   "id": "da582faa-8fa8-4477-a731-78535755527c",
   "metadata": {},
   "outputs": [
    {
     "name": "stdin",
     "output_type": "stream",
     "text": [
      "Enter the numbers:  12 12\n"
     ]
    },
    {
     "name": "stdout",
     "output_type": "stream",
     "text": [
      "sum of digits is:  6\n"
     ]
    }
   ],
   "source": [
    "# 43.  Write a program to find the sum of all digits in a string entered by the user?\n",
    "a1=input(\"Enter the numbers: \")\n",
    "num=sum(int(digit)for digit in a1 if digit.isdigit())\n",
    "print(\"sum of digits is: \",num)"
   ]
  },
  {
   "cell_type": "code",
   "execution_count": 31,
   "id": "0116c96f-6e2a-4dee-bc77-73c74a9552e0",
   "metadata": {},
   "outputs": [
    {
     "name": "stdin",
     "output_type": "stream",
     "text": [
      "Enter the numbers:  12\n"
     ]
    },
    {
     "name": "stdout",
     "output_type": "stream",
     "text": [
      "12\n"
     ]
    }
   ],
   "source": [
    "# 44.  Write a program that accepts a number and prints its absolute value?\n",
    "a1=int(input(\"Enter the numbers: \"))\n",
    "print(abs(a1))"
   ]
  },
  {
   "cell_type": "code",
   "execution_count": 37,
   "id": "82324016-118a-4275-8461-f9bbd687e1c7",
   "metadata": {},
   "outputs": [
    {
     "name": "stdin",
     "output_type": "stream",
     "text": [
      "Enter the string:  Ravi\n"
     ]
    },
    {
     "name": "stdout",
     "output_type": "stream",
     "text": [
      "Yes it consists Ravi\n"
     ]
    }
   ],
   "source": [
    "# 45. How would you check if a string entered by the user contains any uppercase letters?  \n",
    "a1=input(\"Enter the string: \")\n",
    "if any(char.isupper()for char in a1):\n",
    "    print(\"Yes it consists\",a1)\n",
    "else:\n",
    "    print(\"No it doen't consists\")"
   ]
  },
  {
   "cell_type": "code",
   "execution_count": 39,
   "id": "62712381-82ce-4335-908e-2280bca8f9a8",
   "metadata": {},
   "outputs": [
    {
     "name": "stdin",
     "output_type": "stream",
     "text": [
      "Enter the celsius:  33\n"
     ]
    },
    {
     "name": "stdout",
     "output_type": "stream",
     "text": [
      "91.4\n"
     ]
    }
   ],
   "source": [
    "# 46.  Write a program that converts Celsius to Fahrenheit?\n",
    "celsius=float(input(\"Enter the celsius: \"))\n",
    "far=(celsius*9/5)+32   # 9/5 0r 1.8 = conversion factor\n",
    "print(far)            # 32= freezing point"
   ]
  },
  {
   "cell_type": "code",
   "execution_count": 43,
   "id": "7cb6a33c-f15e-4914-9fbf-1b8cc14e039f",
   "metadata": {},
   "outputs": [
    {
     "name": "stdin",
     "output_type": "stream",
     "text": [
      "Enter the numbers:  23\n"
     ]
    },
    {
     "name": "stdout",
     "output_type": "stream",
     "text": [
      "2.5\n"
     ]
    }
   ],
   "source": [
    "# 47. Write a program to find the average of a list of numbers entered by the user?\n",
    "a1=list(map(int,input(\"Enter the numbers: \")))\n",
    "print(sum(a1)/len(a1))"
   ]
  },
  {
   "cell_type": "code",
   "execution_count": 59,
   "id": "b150a4a4-7b68-4f9f-9015-192f8fb50867",
   "metadata": {},
   "outputs": [
    {
     "name": "stdin",
     "output_type": "stream",
     "text": [
      "Enter the string:  ravi\n"
     ]
    },
    {
     "name": "stdout",
     "output_type": "stream",
     "text": [
      "2\n",
      "r,v\n"
     ]
    }
   ],
   "source": [
    "# 48. Write a program to count the number of consonants in a string entered by the user?\n",
    "a1=input(\"Enter the string: \")\n",
    "consonants=\"bcdfghjklmnpqrstvwxyz\"\n",
    "count=sum(1 for char in a1.lower() if char in consonants)\n",
    "count2=\",\".join(char for char in a1 if char.lower() in consonants)\n",
    "print(count)\n",
    "print(count2)"
   ]
  },
  {
   "cell_type": "code",
   "execution_count": 61,
   "id": "e3134204-e1ae-4b1f-abff-8608cf0e41cd",
   "metadata": {},
   "outputs": [
    {
     "name": "stdin",
     "output_type": "stream",
     "text": [
      "Enter a string:  ravi,teja.\n"
     ]
    },
    {
     "name": "stdout",
     "output_type": "stream",
     "text": [
      "Contains punctuation\n"
     ]
    }
   ],
   "source": [
    "# 49. How do you check if a string entered by the user contains any punctuation?\n",
    "import string \n",
    "text = input(\"Enter a string: \") \n",
    "if any(char in string.punctuation for char in text): \n",
    "    print(\"Contains punctuation\") \n",
    "else: \n",
    "    print(\"No punctuation\")"
   ]
  },
  {
   "cell_type": "code",
   "execution_count": 65,
   "id": "fee6bb82-37f9-48b5-bb81-2c523706ec66",
   "metadata": {},
   "outputs": [
    {
     "name": "stdin",
     "output_type": "stream",
     "text": [
      "Enter a sentence:  iam a robot and my name is raviteja\n"
     ]
    },
    {
     "name": "stdout",
     "output_type": "stream",
     "text": [
      "Longest word: raviteja\n"
     ]
    }
   ],
   "source": [
    "# 50.  Write a program that accepts a sentence and prints the longest word?\n",
    "text = input(\"Enter a sentence: \") \n",
    "words = text.split() \n",
    "longest_word = max(words, key=len) \n",
    "print(\"Longest word:\", longest_word) "
   ]
  },
  {
   "cell_type": "code",
   "execution_count": null,
   "id": "10f394df-e0f6-4146-9ae5-0f4ca32e77ad",
   "metadata": {},
   "outputs": [],
   "source": []
  },
  {
   "cell_type": "code",
   "execution_count": null,
   "id": "15d806dd-d0e3-4ac7-b270-684f2f02f54c",
   "metadata": {},
   "outputs": [],
   "source": []
  }
 ],
 "metadata": {
  "kernelspec": {
   "display_name": "Python [conda env:base] *",
   "language": "python",
   "name": "conda-base-py"
  },
  "language_info": {
   "codemirror_mode": {
    "name": "ipython",
    "version": 3
   },
   "file_extension": ".py",
   "mimetype": "text/x-python",
   "name": "python",
   "nbconvert_exporter": "python",
   "pygments_lexer": "ipython3",
   "version": "3.12.7"
  }
 },
 "nbformat": 4,
 "nbformat_minor": 5
}
