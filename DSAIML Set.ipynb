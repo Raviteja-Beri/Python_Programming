{
 "cells": [
  {
   "cell_type": "markdown",
   "id": "39522e19-75a2-4780-9534-c47907d027a6",
   "metadata": {},
   "source": [
    "# Set"
   ]
  },
  {
   "cell_type": "code",
   "execution_count": 2,
   "id": "77aa278c-c4bb-44f6-acae-c01e82ff6cfa",
   "metadata": {},
   "outputs": [
    {
     "data": {
      "text/plain": [
       "{}"
      ]
     },
     "execution_count": 2,
     "metadata": {},
     "output_type": "execute_result"
    }
   ],
   "source": [
    "s={}\n",
    "s"
   ]
  },
  {
   "cell_type": "code",
   "execution_count": 4,
   "id": "cfd86d85-5164-480f-830a-a20d4f5d35e4",
   "metadata": {},
   "outputs": [
    {
     "data": {
      "text/plain": [
       "dict"
      ]
     },
     "execution_count": 4,
     "metadata": {},
     "output_type": "execute_result"
    }
   ],
   "source": [
    "type(s)"
   ]
  },
  {
   "cell_type": "code",
   "execution_count": 6,
   "id": "ae6b4ae4-ca99-41af-ad5a-af57afc82f20",
   "metadata": {},
   "outputs": [
    {
     "data": {
      "text/plain": [
       "set"
      ]
     },
     "execution_count": 6,
     "metadata": {},
     "output_type": "execute_result"
    }
   ],
   "source": [
    "s1=set()\n",
    "type(s1)"
   ]
  },
  {
   "cell_type": "code",
   "execution_count": 8,
   "id": "b601a1cd-ade5-494e-9143-17b9e7a692e7",
   "metadata": {},
   "outputs": [
    {
     "data": {
      "text/plain": [
       "set()"
      ]
     },
     "execution_count": 8,
     "metadata": {},
     "output_type": "execute_result"
    }
   ],
   "source": [
    "s1"
   ]
  },
  {
   "cell_type": "code",
   "execution_count": 12,
   "id": "7c8958ab-7d06-4d7a-b107-c2b861a1075d",
   "metadata": {},
   "outputs": [
    {
     "data": {
      "text/plain": [
       "{5, 10, 15, 20, 30, 40}"
      ]
     },
     "execution_count": 12,
     "metadata": {},
     "output_type": "execute_result"
    }
   ],
   "source": [
    "s2={10,15,5,20,30,40} # It gives you in order when the similar data is given\n",
    "s2                    # Integers"
   ]
  },
  {
   "cell_type": "code",
   "execution_count": 14,
   "id": "42e9baf9-f439-4f31-ac6c-729d9e260db5",
   "metadata": {},
   "outputs": [
    {
     "data": {
      "text/plain": [
       "{'a', 'c', 'e', 'f', 'g'}"
      ]
     },
     "execution_count": 14,
     "metadata": {},
     "output_type": "execute_result"
    }
   ],
   "source": [
    "s3={'c','f','a','e','g'} # It is the same data type i.e, string\n",
    "s3"
   ]
  },
  {
   "cell_type": "code",
   "execution_count": 16,
   "id": "c22ddc77-6906-4a22-b101-9998636a5833",
   "metadata": {},
   "outputs": [
    {
     "ename": "TypeError",
     "evalue": "unhashable type: 'list'",
     "output_type": "error",
     "traceback": [
      "\u001b[1;31m---------------------------------------------------------------------------\u001b[0m",
      "\u001b[1;31mTypeError\u001b[0m                                 Traceback (most recent call last)",
      "Cell \u001b[1;32mIn[16], line 1\u001b[0m\n\u001b[1;32m----> 1\u001b[0m s4\u001b[38;5;241m=\u001b[39m{\u001b[38;5;241m1\u001b[39m,\u001b[38;5;241m2\u001b[39m,\u001b[38;5;124m'\u001b[39m\u001b[38;5;124mravi\u001b[39m\u001b[38;5;124m'\u001b[39m,\u001b[38;5;241m1\u001b[39m\u001b[38;5;241m+\u001b[39m\u001b[38;5;241m3\u001b[39mj,[\u001b[38;5;241m1\u001b[39m,\u001b[38;5;241m2\u001b[39m,\u001b[38;5;241m3\u001b[39m],(\u001b[38;5;241m4\u001b[39m,\u001b[38;5;241m5\u001b[39m,\u001b[38;5;241m6\u001b[39m),\u001b[38;5;28;01mTrue\u001b[39;00m}\n\u001b[0;32m      2\u001b[0m s4\n",
      "\u001b[1;31mTypeError\u001b[0m: unhashable type: 'list'"
     ]
    }
   ],
   "source": [
    "s4={1,2,'ravi',1+3j,[1,2,3],(4,5,6),True} # Mixed data types\n",
    "s4"
   ]
  },
  {
   "cell_type": "code",
   "execution_count": 18,
   "id": "cb4192d7-1974-461b-8010-84329959b3c4",
   "metadata": {},
   "outputs": [
    {
     "data": {
      "text/plain": [
       "{(1+3j), 2, 3.4, False, 'nit'}"
      ]
     },
     "execution_count": 18,
     "metadata": {},
     "output_type": "execute_result"
    }
   ],
   "source": [
    "s5={2,3.4,'nit',1+3j,False} # In mixed data types it wont give you in order\n",
    "s5"
   ]
  },
  {
   "cell_type": "code",
   "execution_count": 22,
   "id": "b0fbb730-d432-4fe0-b159-e87027a31fbd",
   "metadata": {},
   "outputs": [
    {
     "name": "stdout",
     "output_type": "stream",
     "text": [
      "set()\n",
      "{20, 5, 40, 10, 30, 15}\n",
      "{'e', 'f', 'a', 'g', 'c'}\n",
      "{False, 2, 3.4, 'nit', (1+3j)}\n"
     ]
    }
   ],
   "source": [
    "print(s1)\n",
    "print(s2)\n",
    "print(s3)\n",
    "print(s5)"
   ]
  },
  {
   "cell_type": "code",
   "execution_count": 24,
   "id": "f35954a3-bad3-46cb-b8d5-d01d7b0dcfc9",
   "metadata": {},
   "outputs": [],
   "source": [
    "s2.add(30) # It will add in orderwise"
   ]
  },
  {
   "cell_type": "code",
   "execution_count": 26,
   "id": "037cbdae-6dbd-46de-af42-7c8ee3ac3c9e",
   "metadata": {},
   "outputs": [
    {
     "data": {
      "text/plain": [
       "{5, 10, 15, 20, 30, 40}"
      ]
     },
     "execution_count": 26,
     "metadata": {},
     "output_type": "execute_result"
    }
   ],
   "source": [
    "s2"
   ]
  },
  {
   "cell_type": "code",
   "execution_count": 28,
   "id": "713c9b36-e511-4cbc-affd-aad55fae1f8f",
   "metadata": {},
   "outputs": [
    {
     "data": {
      "text/plain": [
       "{5, 10, 15, 20, 30, 35, 40}"
      ]
     },
     "execution_count": 28,
     "metadata": {},
     "output_type": "execute_result"
    }
   ],
   "source": [
    "s2.add(35)\n",
    "s2"
   ]
  },
  {
   "cell_type": "code",
   "execution_count": 30,
   "id": "e46f76ab-f008-413e-ac07-824a3fde8594",
   "metadata": {},
   "outputs": [
    {
     "data": {
      "text/plain": [
       "{5, 10, 15, 20, 30, 35, 40, 100}"
      ]
     },
     "execution_count": 30,
     "metadata": {},
     "output_type": "execute_result"
    }
   ],
   "source": [
    "s2.add(100)\n",
    "s2"
   ]
  },
  {
   "cell_type": "code",
   "execution_count": 32,
   "id": "dd9ebb72-9c98-45af-9da4-467e4b926878",
   "metadata": {},
   "outputs": [
    {
     "ename": "TypeError",
     "evalue": "'set' object is not subscriptable",
     "output_type": "error",
     "traceback": [
      "\u001b[1;31m---------------------------------------------------------------------------\u001b[0m",
      "\u001b[1;31mTypeError\u001b[0m                                 Traceback (most recent call last)",
      "Cell \u001b[1;32mIn[32], line 1\u001b[0m\n\u001b[1;32m----> 1\u001b[0m s2[:]\n",
      "\u001b[1;31mTypeError\u001b[0m: 'set' object is not subscriptable"
     ]
    }
   ],
   "source": [
    "s2[:] # Set index slicing is not allowed. Only List and Tuple allows index slicing."
   ]
  },
  {
   "cell_type": "code",
   "execution_count": 34,
   "id": "33e17bee-97bf-497b-a9b4-35b4ff1aba3a",
   "metadata": {},
   "outputs": [
    {
     "ename": "TypeError",
     "evalue": "'set' object is not subscriptable",
     "output_type": "error",
     "traceback": [
      "\u001b[1;31m---------------------------------------------------------------------------\u001b[0m",
      "\u001b[1;31mTypeError\u001b[0m                                 Traceback (most recent call last)",
      "Cell \u001b[1;32mIn[34], line 1\u001b[0m\n\u001b[1;32m----> 1\u001b[0m s2[\u001b[38;5;241m1\u001b[39m:\u001b[38;5;241m5\u001b[39m]\n",
      "\u001b[1;31mTypeError\u001b[0m: 'set' object is not subscriptable"
     ]
    }
   ],
   "source": [
    "s2[1:5] # Set index slicing is not allowed. Only List and Tuple allows index slicing."
   ]
  },
  {
   "cell_type": "code",
   "execution_count": 36,
   "id": "9a47c3a0-22c9-4a58-bd3e-4b2a953926f4",
   "metadata": {},
   "outputs": [
    {
     "data": {
      "text/plain": [
       "{5, 10, 15, 20, 30, 35, 40, 100}"
      ]
     },
     "execution_count": 36,
     "metadata": {},
     "output_type": "execute_result"
    }
   ],
   "source": [
    "s2"
   ]
  },
  {
   "cell_type": "code",
   "execution_count": 38,
   "id": "05ca58ed-a9d1-44f1-a600-bcd411754e02",
   "metadata": {},
   "outputs": [
    {
     "data": {
      "text/plain": [
       "{(1+3j), 2, 3.4, False, 'nit'}"
      ]
     },
     "execution_count": 38,
     "metadata": {},
     "output_type": "execute_result"
    }
   ],
   "source": [
    "s5"
   ]
  },
  {
   "cell_type": "code",
   "execution_count": 40,
   "id": "03fe77d3-9a1d-400e-b028-73ef3a4dd8cc",
   "metadata": {},
   "outputs": [
    {
     "data": {
      "text/plain": [
       "{(1+3j), 2, 3.4, False, 'nit'}"
      ]
     },
     "execution_count": 40,
     "metadata": {},
     "output_type": "execute_result"
    }
   ],
   "source": [
    "s4=s5.copy() # Copy function is allowed\n",
    "s4"
   ]
  },
  {
   "cell_type": "code",
   "execution_count": 44,
   "id": "ad4ea273-c436-4c47-be42-9c55f791e4a5",
   "metadata": {},
   "outputs": [
    {
     "data": {
      "text/plain": [
       "{(1+3j), 2, 3.4, False, 'nit'}"
      ]
     },
     "execution_count": 44,
     "metadata": {},
     "output_type": "execute_result"
    }
   ],
   "source": [
    "s4.add(2) # In Duplicate elements are not allowed. In List and Tuple it is allowed.\n",
    "s4"
   ]
  },
  {
   "cell_type": "code",
   "execution_count": 46,
   "id": "b20a984c-0af6-457b-aedb-b49e43872fae",
   "metadata": {},
   "outputs": [
    {
     "data": {
      "text/plain": [
       "{(1+3j), 2, 3.4, False, 'nit'}"
      ]
     },
     "execution_count": 46,
     "metadata": {},
     "output_type": "execute_result"
    }
   ],
   "source": [
    "s5"
   ]
  },
  {
   "cell_type": "code",
   "execution_count": 48,
   "id": "c363c20d-be44-4548-9511-b1f04f448cf7",
   "metadata": {},
   "outputs": [
    {
     "data": {
      "text/plain": [
       "set()"
      ]
     },
     "execution_count": 48,
     "metadata": {},
     "output_type": "execute_result"
    }
   ],
   "source": [
    "s5.clear() # it removes all the elements.\n",
    "s5         # Shift + Tab = Docstring\n",
    "           # Doctsring = Help of the functions"
   ]
  },
  {
   "cell_type": "code",
   "execution_count": 50,
   "id": "d3ee6bd9-344e-4bdc-88ca-09e3b4466926",
   "metadata": {},
   "outputs": [
    {
     "data": {
      "text/plain": [
       "set()"
      ]
     },
     "execution_count": 50,
     "metadata": {},
     "output_type": "execute_result"
    }
   ],
   "source": [
    "s5"
   ]
  },
  {
   "cell_type": "code",
   "execution_count": 56,
   "id": "1c84c216-4240-4ef7-b7e8-116ee17da98e",
   "metadata": {},
   "outputs": [
    {
     "ename": "NameError",
     "evalue": "name 's5' is not defined",
     "output_type": "error",
     "traceback": [
      "\u001b[1;31m---------------------------------------------------------------------------\u001b[0m",
      "\u001b[1;31mNameError\u001b[0m                                 Traceback (most recent call last)",
      "Cell \u001b[1;32mIn[56], line 1\u001b[0m\n\u001b[1;32m----> 1\u001b[0m \u001b[38;5;28;01mdel\u001b[39;00m s5\n",
      "\u001b[1;31mNameError\u001b[0m: name 's5' is not defined"
     ]
    }
   ],
   "source": [
    "del s5"
   ]
  },
  {
   "cell_type": "code",
   "execution_count": 58,
   "id": "cb72269d-6901-4266-b305-5a1586745278",
   "metadata": {},
   "outputs": [
    {
     "data": {
      "text/plain": [
       "{(1+3j), 2, 3.4, False, 'nit'}"
      ]
     },
     "execution_count": 58,
     "metadata": {},
     "output_type": "execute_result"
    }
   ],
   "source": [
    "s4"
   ]
  },
  {
   "cell_type": "code",
   "execution_count": 60,
   "id": "9e48240f-1a32-4fe2-a10a-aea232b574ee",
   "metadata": {},
   "outputs": [],
   "source": [
    "s4.remove((1+3j)) # To Remove an element from a set; it must be a member"
   ]
  },
  {
   "cell_type": "code",
   "execution_count": 62,
   "id": "e75c1412-f500-4b20-b908-1085a06585bf",
   "metadata": {},
   "outputs": [
    {
     "data": {
      "text/plain": [
       "{2, 3.4, False, 'nit'}"
      ]
     },
     "execution_count": 62,
     "metadata": {},
     "output_type": "execute_result"
    }
   ],
   "source": [
    "s4"
   ]
  },
  {
   "cell_type": "code",
   "execution_count": 64,
   "id": "c8600af6-45a9-420e-8ef6-be5a5ad1981f",
   "metadata": {},
   "outputs": [
    {
     "data": {
      "text/plain": [
       "{'a', 'c', 'e', 'f', 'g'}"
      ]
     },
     "execution_count": 64,
     "metadata": {},
     "output_type": "execute_result"
    }
   ],
   "source": [
    "s3"
   ]
  },
  {
   "cell_type": "code",
   "execution_count": 66,
   "id": "0cd705f2-2125-4207-b0df-c3d096555396",
   "metadata": {},
   "outputs": [
    {
     "data": {
      "text/plain": [
       "{'a', 'c', 'e', 'f', 'g'}"
      ]
     },
     "execution_count": 66,
     "metadata": {},
     "output_type": "execute_result"
    }
   ],
   "source": [
    "s3.discard('m') # 'm' is not a member of the list but it wont throw you any error unlike remove() function.\n",
    "s3"
   ]
  },
  {
   "cell_type": "code",
   "execution_count": 68,
   "id": "0efd60ef-a290-4133-b0ea-435d6eedce36",
   "metadata": {},
   "outputs": [
    {
     "ename": "KeyError",
     "evalue": "'m'",
     "output_type": "error",
     "traceback": [
      "\u001b[1;31m---------------------------------------------------------------------------\u001b[0m",
      "\u001b[1;31mKeyError\u001b[0m                                  Traceback (most recent call last)",
      "Cell \u001b[1;32mIn[68], line 1\u001b[0m\n\u001b[1;32m----> 1\u001b[0m s3\u001b[38;5;241m.\u001b[39mremove(\u001b[38;5;124m'\u001b[39m\u001b[38;5;124mm\u001b[39m\u001b[38;5;124m'\u001b[39m)\n\u001b[0;32m      2\u001b[0m s3\n",
      "\u001b[1;31mKeyError\u001b[0m: 'm'"
     ]
    }
   ],
   "source": [
    "s3.remove('m') # Its not as discard so it throws you an error.\n",
    "s3"
   ]
  },
  {
   "cell_type": "code",
   "execution_count": 70,
   "id": "5d56f9c0-3a58-45db-8977-2b5d5f6aedfe",
   "metadata": {},
   "outputs": [
    {
     "data": {
      "text/plain": [
       "{'a', 'c', 'e', 'g'}"
      ]
     },
     "execution_count": 70,
     "metadata": {},
     "output_type": "execute_result"
    }
   ],
   "source": [
    "s3.discard('f') # it deletes the element from the list.\n",
    "s3"
   ]
  },
  {
   "cell_type": "code",
   "execution_count": 72,
   "id": "fc53e6a3-adb7-4d4a-aa91-61f12a875cbe",
   "metadata": {},
   "outputs": [
    {
     "data": {
      "text/plain": [
       "{'a', 'c', 'e', 'g'}"
      ]
     },
     "execution_count": 72,
     "metadata": {},
     "output_type": "execute_result"
    }
   ],
   "source": [
    "s3"
   ]
  },
  {
   "cell_type": "code",
   "execution_count": 74,
   "id": "abceaf6b-2491-4f7a-89fb-734b1480a066",
   "metadata": {},
   "outputs": [
    {
     "data": {
      "text/plain": [
       "'e'"
      ]
     },
     "execution_count": 74,
     "metadata": {},
     "output_type": "execute_result"
    }
   ],
   "source": [
    "s3.pop() # Pop=index level output. By default it wont give yo the last element.\n",
    "        # It gives a random index value."
   ]
  },
  {
   "cell_type": "code",
   "execution_count": 76,
   "id": "18796828-d5a9-41ac-a41d-0a529e7f1e13",
   "metadata": {},
   "outputs": [
    {
     "data": {
      "text/plain": [
       "{5, 10, 15, 20, 30, 35, 40, 100}"
      ]
     },
     "execution_count": 76,
     "metadata": {},
     "output_type": "execute_result"
    }
   ],
   "source": [
    "s2"
   ]
  },
  {
   "cell_type": "code",
   "execution_count": 78,
   "id": "b84a97f9-ef89-41d0-8ae3-f15afa5d61b5",
   "metadata": {},
   "outputs": [
    {
     "ename": "TypeError",
     "evalue": "set.pop() takes no arguments (1 given)",
     "output_type": "error",
     "traceback": [
      "\u001b[1;31m---------------------------------------------------------------------------\u001b[0m",
      "\u001b[1;31mTypeError\u001b[0m                                 Traceback (most recent call last)",
      "Cell \u001b[1;32mIn[78], line 1\u001b[0m\n\u001b[1;32m----> 1\u001b[0m s2\u001b[38;5;241m.\u001b[39mpop(\u001b[38;5;241m4\u001b[39m)\n",
      "\u001b[1;31mTypeError\u001b[0m: set.pop() takes no arguments (1 given)"
     ]
    }
   ],
   "source": [
    "s2.pop(4) # In set Indexing is not allowed. so it throws an error."
   ]
  },
  {
   "cell_type": "code",
   "execution_count": 80,
   "id": "a7d6ff49-6f13-4f61-837e-8b1e18207983",
   "metadata": {},
   "outputs": [
    {
     "data": {
      "text/plain": [
       "35"
      ]
     },
     "execution_count": 80,
     "metadata": {},
     "output_type": "execute_result"
    }
   ],
   "source": [
    "s2.pop()"
   ]
  },
  {
   "cell_type": "code",
   "execution_count": 82,
   "id": "de227a60-6aae-43d2-965e-8bf0ae2c00c9",
   "metadata": {},
   "outputs": [
    {
     "data": {
      "text/plain": [
       "{5, 10, 15, 20, 30, 40, 100}"
      ]
     },
     "execution_count": 82,
     "metadata": {},
     "output_type": "execute_result"
    }
   ],
   "source": [
    "s2"
   ]
  },
  {
   "cell_type": "code",
   "execution_count": 84,
   "id": "ce39c0f6-a8c7-4393-8773-da45c56fd451",
   "metadata": {},
   "outputs": [
    {
     "name": "stdout",
     "output_type": "stream",
     "text": [
      "(0, 20)\n",
      "(1, 5)\n",
      "(2, 100)\n",
      "(3, 40)\n",
      "(4, 10)\n",
      "(5, 30)\n",
      "(6, 15)\n"
     ]
    }
   ],
   "source": [
    "for i in enumerate(s2): # Loops also works in set.\n",
    "    print(i)"
   ]
  },
  {
   "cell_type": "code",
   "execution_count": 86,
   "id": "014e40da-9007-493e-ac30-af7a0af3236b",
   "metadata": {},
   "outputs": [
    {
     "name": "stdout",
     "output_type": "stream",
     "text": [
      "20\n",
      "5\n",
      "100\n",
      "40\n",
      "10\n",
      "30\n",
      "15\n"
     ]
    }
   ],
   "source": [
    "for i in s2:\n",
    "    print(i)"
   ]
  },
  {
   "cell_type": "code",
   "execution_count": 88,
   "id": "6d03114e-fab0-47cf-b800-d7974aa589a2",
   "metadata": {},
   "outputs": [
    {
     "data": {
      "text/plain": [
       "{5, 10, 15, 20, 30, 40, 100}"
      ]
     },
     "execution_count": 88,
     "metadata": {},
     "output_type": "execute_result"
    }
   ],
   "source": [
    "s2"
   ]
  },
  {
   "cell_type": "code",
   "execution_count": 90,
   "id": "cd30aeb5-6b13-4c84-9017-9a75cc6ea45c",
   "metadata": {},
   "outputs": [
    {
     "data": {
      "text/plain": [
       "False"
      ]
     },
     "execution_count": 90,
     "metadata": {},
     "output_type": "execute_result"
    }
   ],
   "source": [
    "2 in s2 # set membership"
   ]
  },
  {
   "cell_type": "code",
   "execution_count": 92,
   "id": "44ccfcc3-2c83-4423-ac41-7538ebbffe19",
   "metadata": {},
   "outputs": [
    {
     "data": {
      "text/plain": [
       "True"
      ]
     },
     "execution_count": 92,
     "metadata": {},
     "output_type": "execute_result"
    }
   ],
   "source": [
    "10 in s2"
   ]
  },
  {
   "cell_type": "code",
   "execution_count": 94,
   "id": "55f804b0-63b0-4854-bad6-1b58294e9795",
   "metadata": {},
   "outputs": [
    {
     "data": {
      "text/plain": [
       "{5, 10, 15, 20, 30, 40, 100}"
      ]
     },
     "execution_count": 94,
     "metadata": {},
     "output_type": "execute_result"
    }
   ],
   "source": [
    "s2"
   ]
  },
  {
   "cell_type": "code",
   "execution_count": 102,
   "id": "9d2390ce-0952-44f8-9554-a82a7987aad9",
   "metadata": {},
   "outputs": [
    {
     "data": {
      "text/plain": [
       "{'a', 'c', 'g'}"
      ]
     },
     "execution_count": 102,
     "metadata": {},
     "output_type": "execute_result"
    }
   ],
   "source": [
    "s3"
   ]
  },
  {
   "cell_type": "code",
   "execution_count": 100,
   "id": "e81af983-ae38-47b1-9601-104bfb19ac21",
   "metadata": {},
   "outputs": [
    {
     "data": {
      "text/plain": [
       "{10, 100, 15, 20, 30, 40, 5, 'a', 'c', 'g'}"
      ]
     },
     "execution_count": 100,
     "metadata": {},
     "output_type": "execute_result"
    }
   ],
   "source": [
    "s2.update(s3)\n",
    "s2"
   ]
  },
  {
   "cell_type": "markdown",
   "id": "ad273849-f333-452e-b272-1f80560d7c21",
   "metadata": {},
   "source": [
    "# Set Operations (very important)\n",
    "### 1. Union\n",
    "### 2. Disjoint\n",
    "### 3. Difference\n",
    "### 4. Symmetric_Difference"
   ]
  },
  {
   "cell_type": "markdown",
   "id": "4ce6bc7f-330a-4fc0-86fb-cd14169a7bee",
   "metadata": {},
   "source": [
    "#### 1. Union"
   ]
  },
  {
   "cell_type": "code",
   "execution_count": 107,
   "id": "c22b7609-c770-4a34-9e12-b41bb54abd68",
   "metadata": {},
   "outputs": [],
   "source": [
    "s6={1,2,3,4,5}\n",
    "s7={4,5,6,7,8}\n",
    "s8={8,9,10}\n"
   ]
  },
  {
   "cell_type": "code",
   "execution_count": 109,
   "id": "13b1f7fd-e111-4c28-95a7-fcbfe3fdc30c",
   "metadata": {},
   "outputs": [
    {
     "data": {
      "text/plain": [
       "{1, 2, 3, 4, 5, 6, 7, 8}"
      ]
     },
     "execution_count": 109,
     "metadata": {},
     "output_type": "execute_result"
    }
   ],
   "source": [
    "s6.union(s7) # Return the union of sets as a new set.It filters the duplicate elements."
   ]
  },
  {
   "cell_type": "code",
   "execution_count": 111,
   "id": "5b7a95d7-3e2c-4f4d-b5a6-bf47c81ffffc",
   "metadata": {},
   "outputs": [
    {
     "data": {
      "text/plain": [
       "{1, 2, 3, 4, 5, 6, 7, 8, 9, 10}"
      ]
     },
     "execution_count": 111,
     "metadata": {},
     "output_type": "execute_result"
    }
   ],
   "source": [
    "s6.union(s7,s8)"
   ]
  },
  {
   "cell_type": "code",
   "execution_count": 113,
   "id": "485283e9-1c60-4f27-a99e-750a461674d9",
   "metadata": {},
   "outputs": [
    {
     "data": {
      "text/plain": [
       "{1, 2, 3, 4, 5, 6, 7, 8}"
      ]
     },
     "execution_count": 113,
     "metadata": {},
     "output_type": "execute_result"
    }
   ],
   "source": [
    "s6 | s7 # |=pipe sign. union function can aloso written as pipe symbol"
   ]
  },
  {
   "cell_type": "code",
   "execution_count": 115,
   "id": "e95cf0de-2e70-43e7-89b1-dc11c848e4f9",
   "metadata": {},
   "outputs": [
    {
     "data": {
      "text/plain": [
       "{1, 2, 3, 4, 5, 6, 7, 8, 9, 10}"
      ]
     },
     "execution_count": 115,
     "metadata": {},
     "output_type": "execute_result"
    }
   ],
   "source": [
    "s6 | s7 | s8"
   ]
  },
  {
   "cell_type": "code",
   "execution_count": 117,
   "id": "01c6ff22-8303-481f-83ff-d4f510bb4588",
   "metadata": {},
   "outputs": [
    {
     "name": "stdout",
     "output_type": "stream",
     "text": [
      "{1, 2, 3, 4, 5}\n",
      "{4, 5, 6, 7, 8}\n",
      "{8, 9, 10}\n"
     ]
    }
   ],
   "source": [
    "print(s6)\n",
    "print(s7)\n",
    "print(s8)"
   ]
  },
  {
   "cell_type": "code",
   "execution_count": 119,
   "id": "07f7880f-d2c0-49d8-9e5e-eac885c67896",
   "metadata": {},
   "outputs": [
    {
     "data": {
      "text/plain": [
       "{4, 5}"
      ]
     },
     "execution_count": 119,
     "metadata": {},
     "output_type": "execute_result"
    }
   ],
   "source": [
    "s6.intersection(s7) # Common elements are given as output"
   ]
  },
  {
   "cell_type": "code",
   "execution_count": 121,
   "id": "e7a49bd0-6dc5-4212-b447-1d1ed526c6d0",
   "metadata": {},
   "outputs": [
    {
     "data": {
      "text/plain": [
       "set()"
      ]
     },
     "execution_count": 121,
     "metadata": {},
     "output_type": "execute_result"
    }
   ],
   "source": [
    "s6.intersection(s8) # No common elelments. so empty set"
   ]
  },
  {
   "cell_type": "code",
   "execution_count": 123,
   "id": "e3d38e97-e023-49c0-877f-a2be401c16ba",
   "metadata": {},
   "outputs": [
    {
     "data": {
      "text/plain": [
       "{8}"
      ]
     },
     "execution_count": 123,
     "metadata": {},
     "output_type": "execute_result"
    }
   ],
   "source": [
    "s7.intersection(s8)"
   ]
  },
  {
   "cell_type": "code",
   "execution_count": 125,
   "id": "9bda5a07-b8ce-4abc-a777-db48e4212704",
   "metadata": {},
   "outputs": [
    {
     "data": {
      "text/plain": [
       "{4, 5}"
      ]
     },
     "execution_count": 125,
     "metadata": {},
     "output_type": "execute_result"
    }
   ],
   "source": [
    "s6 & s7 # '&' = Intersection symbol"
   ]
  },
  {
   "cell_type": "code",
   "execution_count": 127,
   "id": "bb50e24e-02e7-45d4-98d1-f25a2946dd22",
   "metadata": {},
   "outputs": [
    {
     "name": "stdout",
     "output_type": "stream",
     "text": [
      "{1, 2, 3, 4, 5}\n",
      "{4, 5, 6, 7, 8}\n",
      "{8, 9, 10}\n"
     ]
    }
   ],
   "source": [
    "print(s6)\n",
    "print(s7)\n",
    "print(s8)"
   ]
  },
  {
   "cell_type": "code",
   "execution_count": 129,
   "id": "b61dbe42-6aac-4bf4-97fc-a1768c32dba9",
   "metadata": {},
   "outputs": [
    {
     "data": {
      "text/plain": [
       "{1, 2, 3}"
      ]
     },
     "execution_count": 129,
     "metadata": {},
     "output_type": "execute_result"
    }
   ],
   "source": [
    "s6.difference(s7)"
   ]
  },
  {
   "cell_type": "code",
   "execution_count": 131,
   "id": "39f10675-b910-40bc-ab7a-cf1732308adb",
   "metadata": {},
   "outputs": [
    {
     "data": {
      "text/plain": [
       "{4, 5, 6, 7}"
      ]
     },
     "execution_count": 131,
     "metadata": {},
     "output_type": "execute_result"
    }
   ],
   "source": [
    "s7.difference(s8)"
   ]
  },
  {
   "cell_type": "code",
   "execution_count": 133,
   "id": "a2bf718f-8016-4e22-aaf0-1aaf8972f382",
   "metadata": {},
   "outputs": [
    {
     "data": {
      "text/plain": [
       "{1, 2, 3}"
      ]
     },
     "execution_count": 133,
     "metadata": {},
     "output_type": "execute_result"
    }
   ],
   "source": [
    "s6 - s7 # '-' = difference symbol"
   ]
  },
  {
   "cell_type": "code",
   "execution_count": 135,
   "id": "da021a89-c44a-4068-a022-934dc85df27b",
   "metadata": {},
   "outputs": [
    {
     "data": {
      "text/plain": [
       "{4, 5, 6, 7}"
      ]
     },
     "execution_count": 135,
     "metadata": {},
     "output_type": "execute_result"
    }
   ],
   "source": [
    "s7 - s8"
   ]
  },
  {
   "cell_type": "code",
   "execution_count": 137,
   "id": "e2b294cb-a994-4b8e-a2e0-70f3f95b6371",
   "metadata": {},
   "outputs": [
    {
     "data": {
      "text/plain": [
       "{9, 10}"
      ]
     },
     "execution_count": 137,
     "metadata": {},
     "output_type": "execute_result"
    }
   ],
   "source": [
    "s8 - s7"
   ]
  },
  {
   "cell_type": "code",
   "execution_count": 139,
   "id": "6fcf4eae-60a1-4a0d-97cd-321ae91aa2b2",
   "metadata": {},
   "outputs": [
    {
     "name": "stdout",
     "output_type": "stream",
     "text": [
      "{1, 2, 3, 4, 5}\n",
      "{4, 5, 6, 7, 8}\n",
      "{8, 9, 10}\n"
     ]
    }
   ],
   "source": [
    "print(s6)\n",
    "print(s7)\n",
    "print(s8)"
   ]
  },
  {
   "cell_type": "code",
   "execution_count": 141,
   "id": "5d025809-aef8-4764-a08d-a5dfcfd90762",
   "metadata": {},
   "outputs": [
    {
     "data": {
      "text/plain": [
       "{1, 2, 3, 6, 7, 8}"
      ]
     },
     "execution_count": 141,
     "metadata": {},
     "output_type": "execute_result"
    }
   ],
   "source": [
    "s6.symmetric_difference(s7) # Return the symmetric difference of two sets as a new set.It removes common elements."
   ]
  },
  {
   "cell_type": "code",
   "execution_count": null,
   "id": "f0af3704-4d1f-44d7-8034-3fa971d0d56d",
   "metadata": {},
   "outputs": [],
   "source": []
  },
  {
   "cell_type": "code",
   "execution_count": null,
   "id": "54324647-b409-4360-991d-2421a4940138",
   "metadata": {},
   "outputs": [],
   "source": []
  },
  {
   "cell_type": "code",
   "execution_count": null,
   "id": "6b897f90-5d38-4649-810b-33d546f825c9",
   "metadata": {},
   "outputs": [],
   "source": []
  },
  {
   "cell_type": "code",
   "execution_count": null,
   "id": "d7c48067-d0b4-46cf-aa44-5c28047f932e",
   "metadata": {},
   "outputs": [],
   "source": []
  },
  {
   "cell_type": "code",
   "execution_count": null,
   "id": "f1f0ffd4-6964-49be-b1fc-90082f0246b6",
   "metadata": {},
   "outputs": [],
   "source": []
  }
 ],
 "metadata": {
  "kernelspec": {
   "display_name": "Python [conda env:base] *",
   "language": "python",
   "name": "conda-base-py"
  },
  "language_info": {
   "codemirror_mode": {
    "name": "ipython",
    "version": 3
   },
   "file_extension": ".py",
   "mimetype": "text/x-python",
   "name": "python",
   "nbconvert_exporter": "python",
   "pygments_lexer": "ipython3",
   "version": "3.12.7"
  }
 },
 "nbformat": 4,
 "nbformat_minor": 5
}
